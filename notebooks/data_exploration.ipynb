{
 "cells": [
  {
   "cell_type": "code",
   "execution_count": 13,
   "metadata": {},
   "outputs": [],
   "source": [
    "import pandas as pd\n",
    "import numpy as np\n",
    "import string \n",
    "from nltk.corpus import stopwords \n",
    "from nltk.tokenize import word_tokenize\n",
    "from nltk.stem.porter import PorterStemmer\n",
    "from nltk.stem import WordNetLemmatizer\n",
    "\n",
    "df_fake = pd.read_csv(\"../raw_data/Fake.csv\")\n",
    "df_true = pd.read_csv(\"../raw_data/True.csv\")\n",
    "\n",
    "df_fake.insert(4, 'Fake', 1)\n",
    "df_true.insert(4, 'Fake', 0)\n",
    "\n",
    "frames = [df_fake, df_true]\n",
    "fake_true_df = pd.concat(frames).reset_index(drop=True)\n",
    "\n",
    "def delister(list):\n",
    "    return list[0]\n",
    "\n",
    "def depunctuator(text):\n",
    "    for x in string.punctuation:\n",
    "        text = text.replace(x, '')\n",
    "    return text\n",
    "\n",
    "def destopworder(text):\n",
    "    stop_words = set(stopwords.words('english')) \n",
    "    word_tokens = word_tokenize(text)\n",
    "    text = [w for w in word_tokens if not w in stop_words]\n",
    "    return text\n",
    "\n",
    "def stemmer(text):\n",
    "    stemmer = PorterStemmer()\n",
    "    stemmed = [stemmer.stem(word) for word in text]\n",
    "    return stemmed\n",
    "\n",
    "def lemmatizer(text):\n",
    "    lemmatizer = WordNetLemmatizer()\n",
    "    lemmatized = [lemmatizer.lemmatize(word) for word in text]\n",
    "    return lemmatized"
   ]
  },
  {
   "cell_type": "code",
   "execution_count": 14,
   "metadata": {},
   "outputs": [],
   "source": [
    "'''made everything lowercase'''\n",
    "fake_true_df['text'] = fake_true_df['text'].str.lower() \n",
    "fake_true_df['title'] = fake_true_df['title'].str.lower() "
   ]
  },
  {
   "cell_type": "code",
   "execution_count": 15,
   "metadata": {},
   "outputs": [],
   "source": [
    "'''removed all numbers'''\n",
    "fake_true_df['text'] = [[''.join(word for word in article if not word.isdigit())] for article in fake_true_df['text']]\n",
    "fake_true_df['title'] = [[''.join(word for word in title if not word.isdigit())] for title in fake_true_df['title']]\n",
    "\n",
    "fake_true_df['text'] = fake_true_df['text'].apply(delister)\n",
    "fake_true_df['title'] = fake_true_df['title'].apply(delister)"
   ]
  },
  {
   "cell_type": "code",
   "execution_count": 16,
   "metadata": {},
   "outputs": [],
   "source": [
    "'''removed punctuation'''\n",
    "fake_true_df['text'] = fake_true_df['text'].apply(depunctuator)\n",
    "fake_true_df['title'] = fake_true_df['title'].apply(depunctuator)"
   ]
  },
  {
   "cell_type": "code",
   "execution_count": 11,
   "metadata": {},
   "outputs": [],
   "source": [
    "'''removed stopwords'''\n",
    "fake_true_df['text'] = fake_true_df['text'].apply(destopworder)\n",
    "fake_true_df['title'] = fake_true_df['title'].apply(destopworder)"
   ]
  },
  {
   "cell_type": "code",
   "execution_count": null,
   "metadata": {},
   "outputs": [],
   "source": [
    "from sklearn.feature_extraction.text import TfidfVectorizer\n",
    "\n",
    "tf_idf_vectorizer = TfidfVectorizer()"
   ]
  }
 ],
 "metadata": {
  "kernelspec": {
   "display_name": "Python 3",
   "language": "python",
   "name": "python3"
  },
  "language_info": {
   "codemirror_mode": {
    "name": "ipython",
    "version": 3
   },
   "file_extension": ".py",
   "mimetype": "text/x-python",
   "name": "python",
   "nbconvert_exporter": "python",
   "pygments_lexer": "ipython3",
   "version": "3.7.8"
  }
 },
 "nbformat": 4,
 "nbformat_minor": 4
}
