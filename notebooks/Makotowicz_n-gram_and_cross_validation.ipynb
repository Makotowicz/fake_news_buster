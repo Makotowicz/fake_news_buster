{
 "cells": [
  {
   "cell_type": "code",
   "execution_count": 2,
   "metadata": {},
   "outputs": [],
   "source": [
    "import pandas as pd\n",
    "import numpy as np\n",
    "import string \n",
    "from nltk.corpus import stopwords \n",
    "from nltk.tokenize import word_tokenize\n",
    "from nltk.stem.porter import PorterStemmer\n",
    "from nltk.stem import WordNetLemmatizer\n",
    "from sklearn.feature_extraction.text import TfidfVectorizer\n",
    "from sklearn.naive_bayes import MultinomialNB\n",
    "\n",
    "df_fake = pd.read_csv(\"../raw_data/Fake.csv\")\n",
    "df_true = pd.read_csv(\"../raw_data/True.csv\")\n",
    "\n",
    "df_fake.insert(4, 'Fake', 1)\n",
    "df_true.insert(4, 'Fake', 0)\n",
    "\n",
    "frames = [df_fake, df_true]\n",
    "fake_true_df = pd.concat(frames).reset_index(drop=True)\n",
    "\n",
    "def delister(list):\n",
    "    return list[0]\n",
    "\n",
    "def depunctuator(text):\n",
    "    for x in string.punctuation.replace(\"'\", \"\"):\n",
    "        text = text.replace(x, '')\n",
    "    return text\n",
    "\n",
    "def destopworder(text):\n",
    "    stop_words = set(stopwords.words('english')) \n",
    "    word_tokens = word_tokenize(text)\n",
    "    text = [w for w in word_tokens if not w in stop_words]\n",
    "    return text\n",
    "\n",
    "def stemmer(text):\n",
    "    stemmer = PorterStemmer()\n",
    "    stemmed = [stemmer.stem(word) for word in text]\n",
    "    return stemmed\n",
    "\n",
    "def lemmatizer(text):\n",
    "    lemmatizer = WordNetLemmatizer()\n",
    "    lemmatized = [lemmatizer.lemmatize(word) for word in text]\n",
    "    return lemmatized\n",
    "\n",
    "def join_func(text):\n",
    "    text = ' '.join(text)\n",
    "    return text"
   ]
  },
  {
   "cell_type": "code",
   "execution_count": 153,
   "metadata": {},
   "outputs": [],
   "source": [
    "def reapostrophizer(text):\n",
    "    text = text.replace(\" t \", \"'t \")\n",
    "    text = text.replace(\" t.\", \"'t.\")\n",
    "    text = text.replace(\" t,\", \"'t,\")\n",
    "    text = text.replace(\" t!\", \"'t!\")\n",
    "    text = text.replace(\" t?\", \"'t?\")\n",
    "    text = text.replace(\" s \", \"'s \")\n",
    "    text = text.replace(\" s\", \"'s.\")\n",
    "    text = text.replace(\" s\", \"'s,\")\n",
    "    text = text.replace(\" s\", \"'s!\")\n",
    "    text = text.replace(\" s\", \"'s?\")\n",
    "    return text"
   ]
  },
  {
   "cell_type": "code",
   "execution_count": 152,
   "metadata": {},
   "outputs": [
    {
     "data": {
      "text/plain": [
       "\"it doesn't? matter, isn't! it tiny\""
      ]
     },
     "execution_count": 152,
     "metadata": {},
     "output_type": "execute_result"
    }
   ],
   "source": [
    "sentence = 'it doesn t? matter, isn t! it tiny'\n",
    "\n",
    "reapostrophizer(sentence)"
   ]
  },
  {
   "cell_type": "code",
   "execution_count": 6,
   "metadata": {},
   "outputs": [
    {
     "data": {
      "text/plain": [
       "'Donald Trump just couldn t wish all Americans a Happy New Year and leave it at that. Instead, he had to give a shout out to his enemies, haters and  the very dishonest fake news media.  The former reality show star had just one job to do and he couldn t do it. As our Country rapidly grows stronger and smarter, I want to wish all of my friends, supporters, enemies, haters, and even the very dishonest Fake News Media, a Happy and Healthy New Year,  President Angry Pants tweeted.  2018 will be a great year for America! As our Country rapidly grows stronger and smarter, I want to wish all of my friends, supporters, enemies, haters, and even the very dishonest Fake News Media, a Happy and Healthy New Year. 2018 will be a great year for America!  Donald J. Trump (@realDonaldTrump) December 31, 2017Trump s tweet went down about as welll as you d expect.What kind of president sends a New Year s greeting like this despicable, petty, infantile gibberish? Only Trump! His lack of decency won t even allow him to rise above the gutter long enough to wish the American citizens a happy new year!  Bishop Talbert Swan (@TalbertSwan) December 31, 2017no one likes you  Calvin (@calvinstowell) December 31, 2017Your impeachment would make 2018 a great year for America, but I ll also accept regaining control of Congress.  Miranda Yaver (@mirandayaver) December 31, 2017Do you hear yourself talk? When you have to include that many people that hate you you have to wonder? Why do the they all hate me?  Alan Sandoval (@AlanSandoval13) December 31, 2017Who uses the word Haters in a New Years wish??  Marlene (@marlene399) December 31, 2017You can t just say happy new year?  Koren pollitt (@Korencarpenter) December 31, 2017Here s Trump s New Year s Eve tweet from 2016.Happy New Year to all, including to my many enemies and those who have fought me and lost so badly they just don t know what to do. Love!  Donald J. Trump (@realDonaldTrump) December 31, 2016This is nothing new for Trump. He s been doing this for years.Trump has directed messages to his  enemies  and  haters  for New Year s, Easter, Thanksgiving, and the anniversary of 9/11. pic.twitter.com/4FPAe2KypA  Daniel Dale (@ddale8) December 31, 2017Trump s holiday tweets are clearly not presidential.How long did he work at Hallmark before becoming President?  Steven Goodine (@SGoodine) December 31, 2017He s always been like this . . . the only difference is that in the last few years, his filter has been breaking down.  Roy Schulze (@thbthttt) December 31, 2017Who, apart from a teenager uses the term haters?  Wendy (@WendyWhistles) December 31, 2017he s a fucking 5 year old  Who Knows (@rainyday80) December 31, 2017So, to all the people who voted for this a hole thinking he would change once he got into power, you were wrong! 70-year-old men don t change and now he s a year older.Photo by Andrew Burton/Getty Images.'"
      ]
     },
     "execution_count": 6,
     "metadata": {},
     "output_type": "execute_result"
    }
   ],
   "source": [
    "fake_true_df['text'][0]"
   ]
  },
  {
   "cell_type": "code",
   "execution_count": 77,
   "metadata": {},
   "outputs": [
    {
     "data": {
      "text/plain": [
       "array(['News', 'politics', 'Government News', 'left-news', 'US_News',\n",
       "       'Middle-east', 'politicsNews', 'worldnews'], dtype=object)"
      ]
     },
     "execution_count": 77,
     "metadata": {},
     "output_type": "execute_result"
    }
   ],
   "source": [
    "fake_true_df['subject'].unique()"
   ]
  },
  {
   "cell_type": "code",
   "execution_count": 47,
   "metadata": {},
   "outputs": [
    {
     "data": {
      "text/plain": [
       "'!\"#$%&()*+,-./:;<=>?@[\\\\]^_`{|}~'"
      ]
     },
     "execution_count": 47,
     "metadata": {},
     "output_type": "execute_result"
    }
   ],
   "source": [
    "string.punctuation.replace(\"'\", \"\")"
   ]
  },
  {
   "cell_type": "code",
   "execution_count": 2,
   "metadata": {},
   "outputs": [
    {
     "data": {
      "text/plain": [
       "'made everything lowercase'"
      ]
     },
     "execution_count": 2,
     "metadata": {},
     "output_type": "execute_result"
    }
   ],
   "source": [
    "'''made everything lowercase'''\n",
    "#fake_true_df['text'] = fake_true_df['text'].str.lower() \n",
    "#fake_true_df['title'] = fake_true_df['title'].str.lower() "
   ]
  },
  {
   "cell_type": "code",
   "execution_count": 3,
   "metadata": {},
   "outputs": [
    {
     "data": {
      "text/plain": [
       "'removed all numbers'"
      ]
     },
     "execution_count": 3,
     "metadata": {},
     "output_type": "execute_result"
    }
   ],
   "source": [
    "'''removed all numbers'''\n",
    "#fake_true_df['text'] = [[''.join(word for word in article if not word.isdigit())] for article in fake_true_df['text']]\n",
    "#fake_true_df['title'] = [[''.join(word for word in title if not word.isdigit())] for title in fake_true_df['title']]\n",
    "\n",
    "#fake_true_df['text'] = fake_true_df['text'].apply(delister)\n",
    "#fake_true_df['title'] = fake_true_df['title'].apply(delister)"
   ]
  },
  {
   "cell_type": "code",
   "execution_count": 4,
   "metadata": {},
   "outputs": [
    {
     "data": {
      "text/plain": [
       "'removed punctuation'"
      ]
     },
     "execution_count": 4,
     "metadata": {},
     "output_type": "execute_result"
    }
   ],
   "source": [
    "'''removed punctuation'''\n",
    "#fake_true_df['text'] = fake_true_df['text'].apply(depunctuator)\n",
    "#fake_true_df['title'] = fake_true_df['title'].apply(depunctuator)"
   ]
  },
  {
   "cell_type": "code",
   "execution_count": 5,
   "metadata": {},
   "outputs": [
    {
     "data": {
      "text/plain": [
       "'removed stopwords'"
      ]
     },
     "execution_count": 5,
     "metadata": {},
     "output_type": "execute_result"
    }
   ],
   "source": [
    "'''removed stopwords'''\n",
    "#fake_true_df['text'] = fake_true_df['text'].apply(destopworder)\n",
    "#fake_true_df['title'] = fake_true_df['title'].apply(destopworder)"
   ]
  },
  {
   "cell_type": "code",
   "execution_count": 6,
   "metadata": {},
   "outputs": [
    {
     "data": {
      "text/plain": [
       "'join the list of words'"
      ]
     },
     "execution_count": 6,
     "metadata": {},
     "output_type": "execute_result"
    }
   ],
   "source": [
    "'''join the list of words'''\n",
    "#fake_true_df['text'] = fake_true_df['text'].apply(join_func)"
   ]
  },
  {
   "cell_type": "code",
   "execution_count": 7,
   "metadata": {},
   "outputs": [
    {
     "data": {
      "text/plain": [
       "'vectorize'"
      ]
     },
     "execution_count": 7,
     "metadata": {},
     "output_type": "execute_result"
    }
   ],
   "source": [
    "'''vectorize'''\n",
    "#vectorizer = TfidfVectorizer(max_features = 5000, ngram_range = (2,2))\n",
    "\n",
    "#X = vectorizer.fit_transform(fake_true_df['text'])\n",
    "#y = fake_true_df['Fake']"
   ]
  },
  {
   "cell_type": "code",
   "execution_count": 8,
   "metadata": {},
   "outputs": [],
   "source": [
    "#df = pd.DataFrame(X.toarray(),columns = vectorizer.get_feature_names())"
   ]
  },
  {
   "cell_type": "code",
   "execution_count": 9,
   "metadata": {},
   "outputs": [],
   "source": [
    "def vocab_richness(text):\n",
    "    tokens = word_tokenize(text)\n",
    "    total_length = len(tokens)\n",
    "    unique_words = set(tokens)\n",
    "    unique_word_length = len(unique_words)\n",
    "    try:\n",
    "        return unique_word_length/total_length\n",
    "    except ZeroDivisionError:\n",
    "        return 0\n",
    "\n",
    "#fake_true_df['vocab_richness'] = fake_true_df['text'].apply(vocab_richness)"
   ]
  },
  {
   "cell_type": "code",
   "execution_count": 10,
   "metadata": {},
   "outputs": [],
   "source": [
    "#fake_true_df[['text', 'vocab_richness']]"
   ]
  },
  {
   "cell_type": "code",
   "execution_count": 11,
   "metadata": {},
   "outputs": [],
   "source": [
    "from sklearn.model_selection import train_test_split\n",
    "\n",
    "#X = fake_true_df[['vocab_richness']]\n",
    "#y = fake_true_df['Fake']\n",
    "\n",
    "\n",
    "#X_train, X_test, y_train, y_test = train_test_split(X, y, \n",
    "                                                    #test_size=0.3,\n",
    "                                                    #random_state=13)\n",
    "\n",
    "#nb_model = MultinomialNB()\n",
    "\n",
    "#nb_model.fit(X_train,y_train)"
   ]
  },
  {
   "cell_type": "code",
   "execution_count": 12,
   "metadata": {},
   "outputs": [],
   "source": [
    "#nb_model.score(X_test,y_test)"
   ]
  },
  {
   "cell_type": "code",
   "execution_count": 13,
   "metadata": {},
   "outputs": [],
   "source": [
    "from sklearn.model_selection import cross_val_score\n",
    "from sklearn import svm\n",
    "\n",
    "#clf = svm.SVC(kernel='linear', C=1)\n",
    "#scores = cross_val_score(clf, X_train, y_train, cv=5)\n",
    "#scores"
   ]
  },
  {
   "cell_type": "code",
   "execution_count": 14,
   "metadata": {},
   "outputs": [],
   "source": [
    "testing = 'I am, ver\"y. \"very, \"sorry governor\"! it. is. \"t\"errible, awful!'"
   ]
  },
  {
   "cell_type": "code",
   "execution_count": 15,
   "metadata": {},
   "outputs": [],
   "source": [
    "def character_ratio(text):\n",
    "    quotes = ['\\\"', '\\\"']\n",
    "    quote_no = 0\n",
    "    for symbol in text:\n",
    "        if symbol in quotes:\n",
    "            quote_no += 1\n",
    "    return quote_no/len(text)\n",
    "    \n",
    "        "
   ]
  },
  {
   "cell_type": "code",
   "execution_count": 16,
   "metadata": {},
   "outputs": [],
   "source": [
    "#fake_true_df['quote_ratio'] = fake_true_df['text'].apply(quote_ratio)"
   ]
  },
  {
   "cell_type": "code",
   "execution_count": 17,
   "metadata": {},
   "outputs": [],
   "source": [
    "#fake_true_df['quote_ratio']"
   ]
  },
  {
   "cell_type": "code",
   "execution_count": 40,
   "metadata": {},
   "outputs": [],
   "source": [
    "def dedigiter(text):\n",
    "        text = [[''.join(word for word in article if not word.isdigit())] for article in text]\n",
    "        return text\n"
   ]
  },
  {
   "cell_type": "code",
   "execution_count": 49,
   "metadata": {},
   "outputs": [
    {
     "name": "stderr",
     "output_type": "stream",
     "text": [
      "c:\\users\\makot\\.venvs\\lewagon\\lib\\site-packages\\ipykernel_launcher.py:1: SettingWithCopyWarning: \n",
      "A value is trying to be set on a copy of a slice from a DataFrame\n",
      "\n",
      "See the caveats in the documentation: https://pandas.pydata.org/pandas-docs/stable/user_guide/indexing.html#returning-a-view-versus-a-copy\n",
      "  \"\"\"Entry point for launching an IPython kernel.\n"
     ]
    }
   ],
   "source": [
    "fake_true_df['text'][0:5] = fake_true_df['text'][0:5].apply(depunctuator)"
   ]
  },
  {
   "cell_type": "code",
   "execution_count": 78,
   "metadata": {},
   "outputs": [
    {
     "data": {
      "text/plain": [
       "'Donald Trump just couldn t wish all Americans a Happy New Year and leave it at that. Instead, he had to give a shout out to his enemies, haters and  the very dishonest fake news media.  The former reality show star had just one job to do and he couldn t do it. As our Country rapidly grows stronger and smarter, I want to wish all of my friends, supporters, enemies, haters, and even the very dishonest Fake News Media, a Happy and Healthy New Year,  President Angry Pants tweeted.  2018 will be a great year for America! As our Country rapidly grows stronger and smarter, I want to wish all of my friends, supporters, enemies, haters, and even the very dishonest Fake News Media, a Happy and Healthy New Year. 2018 will be a great year for America!  Donald J. Trump (@realDonaldTrump) December 31, 2017Trump s tweet went down about as welll as you d expect.What kind of president sends a New Year s greeting like this despicable, petty, infantile gibberish? Only Trump! His lack of decency won t even allow him to rise above the gutter long enough to wish the American citizens a happy new year!  Bishop Talbert Swan (@TalbertSwan) December 31, 2017no one likes you  Calvin (@calvinstowell) December 31, 2017Your impeachment would make 2018 a great year for America, but I ll also accept regaining control of Congress.  Miranda Yaver (@mirandayaver) December 31, 2017Do you hear yourself talk? When you have to include that many people that hate you you have to wonder? Why do the they all hate me?  Alan Sandoval (@AlanSandoval13) December 31, 2017Who uses the word Haters in a New Years wish??  Marlene (@marlene399) December 31, 2017You can t just say happy new year?  Koren pollitt (@Korencarpenter) December 31, 2017Here s Trump s New Year s Eve tweet from 2016.Happy New Year to all, including to my many enemies and those who have fought me and lost so badly they just don t know what to do. Love!  Donald J. Trump (@realDonaldTrump) December 31, 2016This is nothing new for Trump. He s been doing this for years.Trump has directed messages to his  enemies  and  haters  for New Year s, Easter, Thanksgiving, and the anniversary of 9/11. pic.twitter.com/4FPAe2KypA  Daniel Dale (@ddale8) December 31, 2017Trump s holiday tweets are clearly not presidential.How long did he work at Hallmark before becoming President?  Steven Goodine (@SGoodine) December 31, 2017He s always been like this . . . the only difference is that in the last few years, his filter has been breaking down.  Roy Schulze (@thbthttt) December 31, 2017Who, apart from a teenager uses the term haters?  Wendy (@WendyWhistles) December 31, 2017he s a fucking 5 year old  Who Knows (@rainyday80) December 31, 2017So, to all the people who voted for this a hole thinking he would change once he got into power, you were wrong! 70-year-old men don t change and now he s a year older.Photo by Andrew Burton/Getty Images.'"
      ]
     },
     "execution_count": 78,
     "metadata": {},
     "output_type": "execute_result"
    }
   ],
   "source": [
    "fake_true_df['text'][0]"
   ]
  },
  {
   "cell_type": "code",
   "execution_count": 118,
   "metadata": {},
   "outputs": [
    {
     "name": "stderr",
     "output_type": "stream",
     "text": [
      "c:\\users\\makot\\.venvs\\lewagon\\lib\\site-packages\\ipykernel_launcher.py:4: SettingWithCopyWarning: \n",
      "A value is trying to be set on a copy of a slice from a DataFrame\n",
      "\n",
      "See the caveats in the documentation: https://pandas.pydata.org/pandas-docs/stable/user_guide/indexing.html#returning-a-view-versus-a-copy\n",
      "  after removing the cwd from sys.path.\n"
     ]
    }
   ],
   "source": [
    "def split(text):\n",
    "    return text.split()\n",
    "\n",
    "fake_true_df['text'][0:1] = fake_true_df['text'][0:1].apply(split)"
   ]
  },
  {
   "cell_type": "code",
   "execution_count": 119,
   "metadata": {},
   "outputs": [
    {
     "data": {
      "text/plain": [
       "['Donald',\n",
       " 'Trump',\n",
       " 'just',\n",
       " 'couldn',\n",
       " 't',\n",
       " 'wish',\n",
       " 'all',\n",
       " 'Americans',\n",
       " 'a',\n",
       " 'Happy',\n",
       " 'New',\n",
       " 'Year',\n",
       " 'and',\n",
       " 'leave',\n",
       " 'it',\n",
       " 'at',\n",
       " 'that.',\n",
       " 'Instead,',\n",
       " 'he',\n",
       " 'had',\n",
       " 'to',\n",
       " 'give',\n",
       " 'a',\n",
       " 'shout',\n",
       " 'out',\n",
       " 'to',\n",
       " 'his',\n",
       " 'enemies,',\n",
       " 'haters',\n",
       " 'and',\n",
       " 'the',\n",
       " 'very',\n",
       " 'dishonest',\n",
       " 'fake',\n",
       " 'news',\n",
       " 'media.',\n",
       " 'The',\n",
       " 'former',\n",
       " 'reality',\n",
       " 'show',\n",
       " 'star',\n",
       " 'had',\n",
       " 'just',\n",
       " 'one',\n",
       " 'job',\n",
       " 'to',\n",
       " 'do',\n",
       " 'and',\n",
       " 'he',\n",
       " 'couldn',\n",
       " 't',\n",
       " 'do',\n",
       " 'it.',\n",
       " 'As',\n",
       " 'our',\n",
       " 'Country',\n",
       " 'rapidly',\n",
       " 'grows',\n",
       " 'stronger',\n",
       " 'and',\n",
       " 'smarter,',\n",
       " 'I',\n",
       " 'want',\n",
       " 'to',\n",
       " 'wish',\n",
       " 'all',\n",
       " 'of',\n",
       " 'my',\n",
       " 'friends,',\n",
       " 'supporters,',\n",
       " 'enemies,',\n",
       " 'haters,',\n",
       " 'and',\n",
       " 'even',\n",
       " 'the',\n",
       " 'very',\n",
       " 'dishonest',\n",
       " 'Fake',\n",
       " 'News',\n",
       " 'Media,',\n",
       " 'a',\n",
       " 'Happy',\n",
       " 'and',\n",
       " 'Healthy',\n",
       " 'New',\n",
       " 'Year,',\n",
       " 'President',\n",
       " 'Angry',\n",
       " 'Pants',\n",
       " 'tweeted.',\n",
       " '2018',\n",
       " 'will',\n",
       " 'be',\n",
       " 'a',\n",
       " 'great',\n",
       " 'year',\n",
       " 'for',\n",
       " 'America!',\n",
       " 'As',\n",
       " 'our',\n",
       " 'Country',\n",
       " 'rapidly',\n",
       " 'grows',\n",
       " 'stronger',\n",
       " 'and',\n",
       " 'smarter,',\n",
       " 'I',\n",
       " 'want',\n",
       " 'to',\n",
       " 'wish',\n",
       " 'all',\n",
       " 'of',\n",
       " 'my',\n",
       " 'friends,',\n",
       " 'supporters,',\n",
       " 'enemies,',\n",
       " 'haters,',\n",
       " 'and',\n",
       " 'even',\n",
       " 'the',\n",
       " 'very',\n",
       " 'dishonest',\n",
       " 'Fake',\n",
       " 'News',\n",
       " 'Media,',\n",
       " 'a',\n",
       " 'Happy',\n",
       " 'and',\n",
       " 'Healthy',\n",
       " 'New',\n",
       " 'Year.',\n",
       " '2018',\n",
       " 'will',\n",
       " 'be',\n",
       " 'a',\n",
       " 'great',\n",
       " 'year',\n",
       " 'for',\n",
       " 'America!',\n",
       " 'Donald',\n",
       " 'J.',\n",
       " 'Trump',\n",
       " '(@realDonaldTrump)',\n",
       " 'December',\n",
       " '31,',\n",
       " '2017Trump',\n",
       " 's',\n",
       " 'tweet',\n",
       " 'went',\n",
       " 'down',\n",
       " 'about',\n",
       " 'as',\n",
       " 'welll',\n",
       " 'as',\n",
       " 'you',\n",
       " 'd',\n",
       " 'expect.What',\n",
       " 'kind',\n",
       " 'of',\n",
       " 'president',\n",
       " 'sends',\n",
       " 'a',\n",
       " 'New',\n",
       " 'Year',\n",
       " 's',\n",
       " 'greeting',\n",
       " 'like',\n",
       " 'this',\n",
       " 'despicable,',\n",
       " 'petty,',\n",
       " 'infantile',\n",
       " 'gibberish?',\n",
       " 'Only',\n",
       " 'Trump!',\n",
       " 'His',\n",
       " 'lack',\n",
       " 'of',\n",
       " 'decency',\n",
       " 'won',\n",
       " 't',\n",
       " 'even',\n",
       " 'allow',\n",
       " 'him',\n",
       " 'to',\n",
       " 'rise',\n",
       " 'above',\n",
       " 'the',\n",
       " 'gutter',\n",
       " 'long',\n",
       " 'enough',\n",
       " 'to',\n",
       " 'wish',\n",
       " 'the',\n",
       " 'American',\n",
       " 'citizens',\n",
       " 'a',\n",
       " 'happy',\n",
       " 'new',\n",
       " 'year!',\n",
       " 'Bishop',\n",
       " 'Talbert',\n",
       " 'Swan',\n",
       " '(@TalbertSwan)',\n",
       " 'December',\n",
       " '31,',\n",
       " '2017no',\n",
       " 'one',\n",
       " 'likes',\n",
       " 'you',\n",
       " 'Calvin',\n",
       " '(@calvinstowell)',\n",
       " 'December',\n",
       " '31,',\n",
       " '2017Your',\n",
       " 'impeachment',\n",
       " 'would',\n",
       " 'make',\n",
       " '2018',\n",
       " 'a',\n",
       " 'great',\n",
       " 'year',\n",
       " 'for',\n",
       " 'America,',\n",
       " 'but',\n",
       " 'I',\n",
       " 'll',\n",
       " 'also',\n",
       " 'accept',\n",
       " 'regaining',\n",
       " 'control',\n",
       " 'of',\n",
       " 'Congress.',\n",
       " 'Miranda',\n",
       " 'Yaver',\n",
       " '(@mirandayaver)',\n",
       " 'December',\n",
       " '31,',\n",
       " '2017Do',\n",
       " 'you',\n",
       " 'hear',\n",
       " 'yourself',\n",
       " 'talk?',\n",
       " 'When',\n",
       " 'you',\n",
       " 'have',\n",
       " 'to',\n",
       " 'include',\n",
       " 'that',\n",
       " 'many',\n",
       " 'people',\n",
       " 'that',\n",
       " 'hate',\n",
       " 'you',\n",
       " 'you',\n",
       " 'have',\n",
       " 'to',\n",
       " 'wonder?',\n",
       " 'Why',\n",
       " 'do',\n",
       " 'the',\n",
       " 'they',\n",
       " 'all',\n",
       " 'hate',\n",
       " 'me?',\n",
       " 'Alan',\n",
       " 'Sandoval',\n",
       " '(@AlanSandoval13)',\n",
       " 'December',\n",
       " '31,',\n",
       " '2017Who',\n",
       " 'uses',\n",
       " 'the',\n",
       " 'word',\n",
       " 'Haters',\n",
       " 'in',\n",
       " 'a',\n",
       " 'New',\n",
       " 'Years',\n",
       " 'wish??',\n",
       " 'Marlene',\n",
       " '(@marlene399)',\n",
       " 'December',\n",
       " '31,',\n",
       " '2017You',\n",
       " 'can',\n",
       " 't',\n",
       " 'just',\n",
       " 'say',\n",
       " 'happy',\n",
       " 'new',\n",
       " 'year?',\n",
       " 'Koren',\n",
       " 'pollitt',\n",
       " '(@Korencarpenter)',\n",
       " 'December',\n",
       " '31,',\n",
       " '2017Here',\n",
       " 's',\n",
       " 'Trump',\n",
       " 's',\n",
       " 'New',\n",
       " 'Year',\n",
       " 's',\n",
       " 'Eve',\n",
       " 'tweet',\n",
       " 'from',\n",
       " '2016.Happy',\n",
       " 'New',\n",
       " 'Year',\n",
       " 'to',\n",
       " 'all,',\n",
       " 'including',\n",
       " 'to',\n",
       " 'my',\n",
       " 'many',\n",
       " 'enemies',\n",
       " 'and',\n",
       " 'those',\n",
       " 'who',\n",
       " 'have',\n",
       " 'fought',\n",
       " 'me',\n",
       " 'and',\n",
       " 'lost',\n",
       " 'so',\n",
       " 'badly',\n",
       " 'they',\n",
       " 'just',\n",
       " 'don',\n",
       " 't',\n",
       " 'know',\n",
       " 'what',\n",
       " 'to',\n",
       " 'do.',\n",
       " 'Love!',\n",
       " 'Donald',\n",
       " 'J.',\n",
       " 'Trump',\n",
       " '(@realDonaldTrump)',\n",
       " 'December',\n",
       " '31,',\n",
       " '2016This',\n",
       " 'is',\n",
       " 'nothing',\n",
       " 'new',\n",
       " 'for',\n",
       " 'Trump.',\n",
       " 'He',\n",
       " 's',\n",
       " 'been',\n",
       " 'doing',\n",
       " 'this',\n",
       " 'for',\n",
       " 'years.Trump',\n",
       " 'has',\n",
       " 'directed',\n",
       " 'messages',\n",
       " 'to',\n",
       " 'his',\n",
       " 'enemies',\n",
       " 'and',\n",
       " 'haters',\n",
       " 'for',\n",
       " 'New',\n",
       " 'Year',\n",
       " 's,',\n",
       " 'Easter,',\n",
       " 'Thanksgiving,',\n",
       " 'and',\n",
       " 'the',\n",
       " 'anniversary',\n",
       " 'of',\n",
       " '9/11.',\n",
       " 'pic.twitter.com/4FPAe2KypA',\n",
       " 'Daniel',\n",
       " 'Dale',\n",
       " '(@ddale8)',\n",
       " 'December',\n",
       " '31,',\n",
       " '2017Trump',\n",
       " 's',\n",
       " 'holiday',\n",
       " 'tweets',\n",
       " 'are',\n",
       " 'clearly',\n",
       " 'not',\n",
       " 'presidential.How',\n",
       " 'long',\n",
       " 'did',\n",
       " 'he',\n",
       " 'work',\n",
       " 'at',\n",
       " 'Hallmark',\n",
       " 'before',\n",
       " 'becoming',\n",
       " 'President?',\n",
       " 'Steven',\n",
       " 'Goodine',\n",
       " '(@SGoodine)',\n",
       " 'December',\n",
       " '31,',\n",
       " '2017He',\n",
       " 's',\n",
       " 'always',\n",
       " 'been',\n",
       " 'like',\n",
       " 'this',\n",
       " '.',\n",
       " '.',\n",
       " '.',\n",
       " 'the',\n",
       " 'only',\n",
       " 'difference',\n",
       " 'is',\n",
       " 'that',\n",
       " 'in',\n",
       " 'the',\n",
       " 'last',\n",
       " 'few',\n",
       " 'years,',\n",
       " 'his',\n",
       " 'filter',\n",
       " 'has',\n",
       " 'been',\n",
       " 'breaking',\n",
       " 'down.',\n",
       " 'Roy',\n",
       " 'Schulze',\n",
       " '(@thbthttt)',\n",
       " 'December',\n",
       " '31,',\n",
       " '2017Who,',\n",
       " 'apart',\n",
       " 'from',\n",
       " 'a',\n",
       " 'teenager',\n",
       " 'uses',\n",
       " 'the',\n",
       " 'term',\n",
       " 'haters?',\n",
       " 'Wendy',\n",
       " '(@WendyWhistles)',\n",
       " 'December',\n",
       " '31,',\n",
       " '2017he',\n",
       " 's',\n",
       " 'a',\n",
       " 'fucking',\n",
       " '5',\n",
       " 'year',\n",
       " 'old',\n",
       " 'Who',\n",
       " 'Knows',\n",
       " '(@rainyday80)',\n",
       " 'December',\n",
       " '31,',\n",
       " '2017So,',\n",
       " 'to',\n",
       " 'all',\n",
       " 'the',\n",
       " 'people',\n",
       " 'who',\n",
       " 'voted',\n",
       " 'for',\n",
       " 'this',\n",
       " 'a',\n",
       " 'hole',\n",
       " 'thinking',\n",
       " 'he',\n",
       " 'would',\n",
       " 'change',\n",
       " 'once',\n",
       " 'he',\n",
       " 'got',\n",
       " 'into',\n",
       " 'power,',\n",
       " 'you',\n",
       " 'were',\n",
       " 'wrong!',\n",
       " '70-year-old',\n",
       " 'men',\n",
       " 'don',\n",
       " 't',\n",
       " 'change',\n",
       " 'and',\n",
       " 'now',\n",
       " 'he',\n",
       " 's',\n",
       " 'a',\n",
       " 'year',\n",
       " 'older.Photo',\n",
       " 'by',\n",
       " 'Andrew',\n",
       " 'Burton/Getty',\n",
       " 'Images.']"
      ]
     },
     "execution_count": 119,
     "metadata": {},
     "output_type": "execute_result"
    }
   ],
   "source": [
    "fake_true_df['text'][0]"
   ]
  },
  {
   "cell_type": "code",
   "execution_count": 55,
   "metadata": {},
   "outputs": [
    {
     "name": "stderr",
     "output_type": "stream",
     "text": [
      "c:\\users\\makot\\.venvs\\lewagon\\lib\\site-packages\\ipykernel_launcher.py:1: SettingWithCopyWarning: \n",
      "A value is trying to be set on a copy of a slice from a DataFrame\n",
      "\n",
      "See the caveats in the documentation: https://pandas.pydata.org/pandas-docs/stable/user_guide/indexing.html#returning-a-view-versus-a-copy\n",
      "  \"\"\"Entry point for launching an IPython kernel.\n"
     ]
    }
   ],
   "source": [
    "fake_true_df['text'][0:5] = fake_true_df['text'][0:5].apply(dedigiter)"
   ]
  },
  {
   "cell_type": "code",
   "execution_count": 65,
   "metadata": {},
   "outputs": [
    {
     "data": {
      "text/plain": [
       "False"
      ]
     },
     "execution_count": 65,
     "metadata": {},
     "output_type": "execute_result"
    }
   ],
   "source": [
    "\"'\" in fake_true_df['text'][5]"
   ]
  },
  {
   "cell_type": "code",
   "execution_count": 44,
   "metadata": {},
   "outputs": [
    {
     "data": {
      "text/plain": [
       "['D']"
      ]
     },
     "execution_count": 44,
     "metadata": {},
     "output_type": "execute_result"
    }
   ],
   "source": [
    "fake_true_df['text'][0]"
   ]
  },
  {
   "cell_type": "code",
   "execution_count": 2,
   "metadata": {},
   "outputs": [
    {
     "ename": "SyntaxError",
     "evalue": "'return' outside function (<ipython-input-2-8a1da4b902f5>, line 9)",
     "output_type": "error",
     "traceback": [
      "\u001b[1;36m  File \u001b[1;32m\"<ipython-input-2-8a1da4b902f5>\"\u001b[1;36m, line \u001b[1;32m9\u001b[0m\n\u001b[1;33m    return text\u001b[0m\n\u001b[1;37m    ^\u001b[0m\n\u001b[1;31mSyntaxError\u001b[0m\u001b[1;31m:\u001b[0m 'return' outside function\n"
     ]
    }
   ],
   "source": [
    "from spellchecker import SpellChecker\n",
    "from nltk.corpus import words\n",
    "import itertools\n",
    "\n",
    "class list_of_misspells(text):\n",
    "    def depunctuator(text):\n",
    "        for x in string.punctuation.replace(\"'\", \"\"):\n",
    "            text = text.replace(x, '')\n",
    "    return text\n",
    "\n",
    "    def dedigiter(text):\n",
    "        text = [[''.join(word for word in article if not word.isdigit())] for article in text]\n",
    "    return text\n",
    "    \n",
    "def spellchecker(text):\n",
    "    for i in text:\n",
    "        spell = SpellChecker()\n",
    "        misspelled = spell.unknown(text)\n",
    "    return len(misspelled)"
   ]
  },
  {
   "cell_type": "code",
   "execution_count": 19,
   "metadata": {},
   "outputs": [
    {
     "data": {
      "text/plain": [
       "0    Donald Trump just couldn t wish all Americans ...\n",
       "Name: text, dtype: object"
      ]
     },
     "execution_count": 19,
     "metadata": {},
     "output_type": "execute_result"
    }
   ],
   "source": [
    "fake_true_df['text'][0:1]"
   ]
  },
  {
   "cell_type": "code",
   "execution_count": 21,
   "metadata": {},
   "outputs": [
    {
     "name": "stderr",
     "output_type": "stream",
     "text": [
      "c:\\users\\makot\\.venvs\\lewagon\\lib\\site-packages\\ipykernel_launcher.py:4: SettingWithCopyWarning: \n",
      "A value is trying to be set on a copy of a slice from a DataFrame\n",
      "\n",
      "See the caveats in the documentation: https://pandas.pydata.org/pandas-docs/stable/user_guide/indexing.html#returning-a-view-versus-a-copy\n",
      "  after removing the cwd from sys.path.\n",
      "c:\\users\\makot\\.venvs\\lewagon\\lib\\site-packages\\pandas\\core\\indexing.py:670: SettingWithCopyWarning: \n",
      "A value is trying to be set on a copy of a slice from a DataFrame\n",
      "\n",
      "See the caveats in the documentation: https://pandas.pydata.org/pandas-docs/stable/user_guide/indexing.html#returning-a-view-versus-a-copy\n",
      "  iloc._setitem_with_indexer(indexer, value)\n"
     ]
    }
   ],
   "source": [
    "def split(text):\n",
    "    return text.split()\n",
    "\n",
    "fake_true_df['text'][0:1] = fake_true_df['text'][0:1].apply(split)"
   ]
  },
  {
   "cell_type": "code",
   "execution_count": 22,
   "metadata": {},
   "outputs": [
    {
     "data": {
      "text/plain": [
       "0    [Donald, Trump, just, couldn, t, wish, all, Am...\n",
       "Name: text, dtype: object"
      ]
     },
     "execution_count": 22,
     "metadata": {},
     "output_type": "execute_result"
    }
   ],
   "source": [
    "fake_true_df['text'][0:1]"
   ]
  },
  {
   "cell_type": "code",
   "execution_count": 24,
   "metadata": {},
   "outputs": [
    {
     "name": "stdout",
     "output_type": "stream",
     "text": [
      "Wall time: 47.2 s\n"
     ]
    }
   ],
   "source": [
    "%%time\n",
    "\n",
    "misspells = fake_true_df['text'][0:1].apply(spellchecker)"
   ]
  },
  {
   "cell_type": "code",
   "execution_count": 136,
   "metadata": {},
   "outputs": [],
   "source": [
    "def split(text):\n",
    "    return text.split()\n",
    "\n",
    "def reapostrophizer(text):\n",
    "    text = text.replace(\" t\", \"'t\")\n",
    "    return text"
   ]
  },
  {
   "cell_type": "code",
   "execution_count": 137,
   "metadata": {},
   "outputs": [
    {
     "name": "stderr",
     "output_type": "stream",
     "text": [
      "c:\\users\\makot\\.venvs\\lewagon\\lib\\site-packages\\ipykernel_launcher.py:1: SettingWithCopyWarning: \n",
      "A value is trying to be set on a copy of a slice from a DataFrame\n",
      "\n",
      "See the caveats in the documentation: https://pandas.pydata.org/pandas-docs/stable/user_guide/indexing.html#returning-a-view-versus-a-copy\n",
      "  \"\"\"Entry point for launching an IPython kernel.\n"
     ]
    }
   ],
   "source": [
    "fake_true_df['text'][0:1] = fake_true_df['text'][0:1].apply(reapostrophizer)"
   ]
  },
  {
   "cell_type": "code",
   "execution_count": 138,
   "metadata": {},
   "outputs": [
    {
     "data": {
      "text/plain": [
       "\"Donald Trump jus't couldn 't wish all Americans a Happy New Year and leave i't a't 'tha't. Ins'tead, he had 'to give a shou't ou't 'to his enemies, ha'ters and  'the very dishones't fake news media.  The former reali'ty show s'tar had jus't one job 'to do and he couldn 't do i't. As our Coun'try rapidly grows s'tronger and smar'ter, I wan't 'to wish all of my friends, suppor'ters, enemies, ha'ters, and even 'the very dishones't Fake News Media, a Happy and Heal'thy New Year,  Presiden't Angry Pan'ts 'twee'ted.  2018 will be a grea't year for America! As our Coun'try rapidly grows s'tronger and smar'ter, I wan't 'to wish all of my friends, suppor'ters, enemies, ha'ters, and even 'the very dishones't Fake News Media, a Happy and Heal'thy New Year. 2018 will be a grea't year for America!  Donald J. Trump (@realDonaldTrump) December 31, 2017Trump s 'twee't wen't down abou't as welll as you d expec't.Wha't kind of presiden't sends a New Year s gree'ting like 'this despicable, pe't'ty, infan'tile gibberish? Only Trump! His lack of decency won 't even allow him 'to rise above 'the gu't'ter long enough 'to wish 'the American ci'tizens a happy new year!  Bishop Talber't Swan (@Talber'tSwan) December 31, 2017no one likes you  Calvin (@calvins'towell) December 31, 2017Your impeachmen't would make 2018 a grea't year for America, bu't I ll also accep't regaining con'trol of Congress.  Miranda Yaver (@mirandayaver) December 31, 2017Do you hear yourself 'talk? When you have 'to include 'tha't many people 'tha't ha'te you you have 'to wonder? Why do 'the 'they all ha'te me?  Alan Sandoval (@AlanSandoval13) December 31, 2017Who uses 'the word Ha'ters in a New Years wish??  Marlene (@marlene399) December 31, 2017You can 't jus't say happy new year?  Koren polli't't (@Korencarpen'ter) December 31, 2017Here s Trump s New Year s Eve 'twee't from 2016.Happy New Year 'to all, including 'to my many enemies and 'those who have fough't me and los't so badly 'they jus't don 't know wha't 'to do. Love!  Donald J. Trump (@realDonaldTrump) December 31, 2016This is no'thing new for Trump. He s been doing 'this for years.Trump has direc'ted messages 'to his  enemies  and  ha'ters  for New Year s, Eas'ter, Thanksgiving, and 'the anniversary of 9/11. pic.'twi't'ter.com/4FPAe2KypA  Daniel Dale (@ddale8) December 31, 2017Trump s holiday 'twee'ts are clearly no't presiden'tial.How long did he work a't Hallmark before becoming Presiden't?  S'teven Goodine (@SGoodine) December 31, 2017He s always been like 'this . . . 'the only difference is 'tha't in 'the las't few years, his fil'ter has been breaking down.  Roy Schulze (@'thb'th't't't) December 31, 2017Who, apar't from a 'teenager uses 'the 'term ha'ters?  Wendy (@WendyWhis'tles) December 31, 2017he s a fucking 5 year old  Who Knows (@rainyday80) December 31, 2017So, 'to all 'the people who vo'ted for 'this a hole 'thinking he would change once he go't in'to power, you were wrong! 70-year-old men don 't change and now he s a year older.Pho'to by Andrew Bur'ton/Ge't'ty Images.\""
      ]
     },
     "execution_count": 138,
     "metadata": {},
     "output_type": "execute_result"
    }
   ],
   "source": [
    "fake_true_df['text'][0]"
   ]
  },
  {
   "cell_type": "code",
   "execution_count": 140,
   "metadata": {},
   "outputs": [
    {
     "name": "stderr",
     "output_type": "stream",
     "text": [
      "c:\\users\\makot\\.venvs\\lewagon\\lib\\site-packages\\ipykernel_launcher.py:6: SettingWithCopyWarning: \n",
      "A value is trying to be set on a copy of a slice from a DataFrame\n",
      "\n",
      "See the caveats in the documentation: https://pandas.pydata.org/pandas-docs/stable/user_guide/indexing.html#returning-a-view-versus-a-copy\n",
      "  \n"
     ]
    }
   ],
   "source": [
    "def reapostrophizer_1(text):\n",
    "    for word in text:\n",
    "        word = word.replace(\" t \", \"'t \")\n",
    "    return text\n",
    "\n",
    "fake_true_df['text'][0:1] = fake_true_df['text'][0:1].apply(reapostrophizer_1)"
   ]
  },
  {
   "cell_type": "code",
   "execution_count": 141,
   "metadata": {},
   "outputs": [
    {
     "data": {
      "text/plain": [
       "'Donald Trump just couldn t wish all Americans a Happy New Year and leave it at that. Instead, he had to give a shout out to his enemies, haters and  the very dishonest fake news media.  The former reality show star had just one job to do and he couldn t do it. As our Country rapidly grows stronger and smarter, I want to wish all of my friends, supporters, enemies, haters, and even the very dishonest Fake News Media, a Happy and Healthy New Year,  President Angry Pants tweeted.  2018 will be a great year for America! As our Country rapidly grows stronger and smarter, I want to wish all of my friends, supporters, enemies, haters, and even the very dishonest Fake News Media, a Happy and Healthy New Year. 2018 will be a great year for America!  Donald J. Trump (@realDonaldTrump) December 31, 2017Trump s tweet went down about as welll as you d expect.What kind of president sends a New Year s greeting like this despicable, petty, infantile gibberish? Only Trump! His lack of decency won t even allow him to rise above the gutter long enough to wish the American citizens a happy new year!  Bishop Talbert Swan (@TalbertSwan) December 31, 2017no one likes you  Calvin (@calvinstowell) December 31, 2017Your impeachment would make 2018 a great year for America, but I ll also accept regaining control of Congress.  Miranda Yaver (@mirandayaver) December 31, 2017Do you hear yourself talk? When you have to include that many people that hate you you have to wonder? Why do the they all hate me?  Alan Sandoval (@AlanSandoval13) December 31, 2017Who uses the word Haters in a New Years wish??  Marlene (@marlene399) December 31, 2017You can t just say happy new year?  Koren pollitt (@Korencarpenter) December 31, 2017Here s Trump s New Year s Eve tweet from 2016.Happy New Year to all, including to my many enemies and those who have fought me and lost so badly they just don t know what to do. Love!  Donald J. Trump (@realDonaldTrump) December 31, 2016This is nothing new for Trump. He s been doing this for years.Trump has directed messages to his  enemies  and  haters  for New Year s, Easter, Thanksgiving, and the anniversary of 9/11. pic.twitter.com/4FPAe2KypA  Daniel Dale (@ddale8) December 31, 2017Trump s holiday tweets are clearly not presidential.How long did he work at Hallmark before becoming President?  Steven Goodine (@SGoodine) December 31, 2017He s always been like this . . . the only difference is that in the last few years, his filter has been breaking down.  Roy Schulze (@thbthttt) December 31, 2017Who, apart from a teenager uses the term haters?  Wendy (@WendyWhistles) December 31, 2017he s a fucking 5 year old  Who Knows (@rainyday80) December 31, 2017So, to all the people who voted for this a hole thinking he would change once he got into power, you were wrong! 70-year-old men don t change and now he s a year older.Photo by Andrew Burton/Getty Images.'"
      ]
     },
     "execution_count": 141,
     "metadata": {},
     "output_type": "execute_result"
    }
   ],
   "source": [
    "fake_true_df['text'][0]"
   ]
  },
  {
   "cell_type": "code",
   "execution_count": 91,
   "metadata": {},
   "outputs": [
    {
     "data": {
      "text/plain": [
       "2"
      ]
     },
     "execution_count": 91,
     "metadata": {},
     "output_type": "execute_result"
    }
   ],
   "source": [
    "len(\" t\")"
   ]
  },
  {
   "cell_type": "code",
   "execution_count": 89,
   "metadata": {},
   "outputs": [
    {
     "data": {
      "text/plain": [
       "\"Donald Trump just couldn't wish all Americans a Happy New Year and leave it at'that. Instead, he had'to give a shout out'to his enemies, haters and 'the very dishonest fake news media.  The former reality show star had just one job'to do and he couldn't do it. As our Country rapidly grows stronger and smarter, I want'to wish all of my friends, supporters, enemies, haters, and even'the very dishonest Fake News Media, a Happy and Healthy New Year,  President Angry Pants'tweeted.  2018 will be a great year for America! As our Country rapidly grows stronger and smarter, I want'to wish all of my friends, supporters, enemies, haters, and even'the very dishonest Fake News Media, a Happy and Healthy New Year. 2018 will be a great year for America!  Donald J. Trump (@realDonaldTrump) December 31, 2017Trump s'tweet went down about as welll as you d expect.What kind of president sends a New Year s greeting like'this despicable, petty, infantile gibberish? Only Trump! His lack of decency won't even allow him'to rise above'the gutter long enough'to wish'the American citizens a happy new year!  Bishop Talbert Swan (@TalbertSwan) December 31, 2017no one likes you  Calvin (@calvinstowell) December 31, 2017Your impeachment would make 2018 a great year for America, but I ll also accept regaining control of Congress.  Miranda Yaver (@mirandayaver) December 31, 2017Do you hear yourself'talk? When you have'to include'that many people'that hate you you have'to wonder? Why do'the'they all hate me?  Alan Sandoval (@AlanSandoval13) December 31, 2017Who uses'the word Haters in a New Years wish??  Marlene (@marlene399) December 31, 2017You can't just say happy new year?  Koren pollitt (@Korencarpenter) December 31, 2017Here s Trump s New Year s Eve'tweet from 2016.Happy New Year'to all, including'to my many enemies and'those who have fought me and lost so badly'they just don't know what'to do. Love!  Donald J. Trump (@realDonaldTrump) December 31, 2016This is nothing new for Trump. He s been doing'this for years.Trump has directed messages'to his  enemies  and  haters  for New Year s, Easter, Thanksgiving, and'the anniversary of 9/11. pic.twitter.com/4FPAe2KypA  Daniel Dale (@ddale8) December 31, 2017Trump s holiday'tweets are clearly not presidential.How long did he work at Hallmark before becoming President?  Steven Goodine (@SGoodine) December 31, 2017He s always been like'this . . .'the only difference is'that in'the last few years, his filter has been breaking down.  Roy Schulze (@thbthttt) December 31, 2017Who, apart from a'teenager uses'the'term haters?  Wendy (@WendyWhistles) December 31, 2017he s a fucking 5 year old  Who Knows (@rainyday80) December 31, 2017So,'to all'the people who voted for'this a hole'thinking he would change once he got into power, you were wrong! 70-year-old men don't change and now he s a year older.Photo by Andrew Burton/Getty Images.\""
      ]
     },
     "execution_count": 89,
     "metadata": {},
     "output_type": "execute_result"
    }
   ],
   "source": [
    "fake_true_df['text'][0]"
   ]
  },
  {
   "cell_type": "code",
   "execution_count": 104,
   "metadata": {},
   "outputs": [],
   "source": [
    "def vocab_richnesser(text):\n",
    "    tokens = word_tokenize(text)\n",
    "    total_length = len(tokens)\n",
    "    unique_words = set(tokens)\n",
    "    unique_word_length = len(unique_words)\n",
    "    try:\n",
    "        return unique_word_length/total_length\n",
    "    except ZeroDivisionError:\n",
    "        return 0\n",
    "\n",
    "def character_ratiorizer(text):\n",
    "    quotes = ['\\\"', '\\\"']\n",
    "    quote_no = 0\n",
    "    for symbol in text:\n",
    "        if symbol in quotes:\n",
    "            quote_no += 1\n",
    "    return quote_no/len(text)\n",
    "\n",
    "def is_upperizer(text):\n",
    "    upper_no = 0\n",
    "    for word in text:\n",
    "        if word.isupper():\n",
    "            upper_no += 1\n",
    "    return upper_no/len(text)\n",
    "\n",
    "def is_digiter(text):\n",
    "    digit_no = 0\n",
    "    for word in text:\n",
    "        if word.isdigit():\n",
    "            digit_no += 1\n",
    "    return digit_no/len(text)"
   ]
  },
  {
   "cell_type": "code",
   "execution_count": 12,
   "metadata": {},
   "outputs": [],
   "source": [
    "fake_true_df['upper_ratio'] = fake_true_df['text'].apply(is_digiter)"
   ]
  },
  {
   "cell_type": "code",
   "execution_count": 120,
   "metadata": {},
   "outputs": [],
   "source": [
    "fake_true_df['digit_ratio'] =  fake_true_df['text'].apply(is_digiter)"
   ]
  },
  {
   "cell_type": "code",
   "execution_count": 122,
   "metadata": {},
   "outputs": [
    {
     "data": {
      "text/plain": [
       "array([0.00808081])"
      ]
     },
     "execution_count": 122,
     "metadata": {},
     "output_type": "execute_result"
    }
   ],
   "source": [
    "fake_true_df['digit_ratio'][0:1].unique()"
   ]
  },
  {
   "cell_type": "code",
   "execution_count": null,
   "metadata": {},
   "outputs": [],
   "source": []
  }
 ],
 "metadata": {
  "kernelspec": {
   "display_name": "Python 3",
   "language": "python",
   "name": "python3"
  },
  "language_info": {
   "codemirror_mode": {
    "name": "ipython",
    "version": 3
   },
   "file_extension": ".py",
   "mimetype": "text/x-python",
   "name": "python",
   "nbconvert_exporter": "python",
   "pygments_lexer": "ipython3",
   "version": "3.7.8"
  }
 },
 "nbformat": 4,
 "nbformat_minor": 4
}
