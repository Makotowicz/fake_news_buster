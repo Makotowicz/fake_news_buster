{
 "cells": [
  {
   "cell_type": "code",
   "execution_count": 1,
   "metadata": {},
   "outputs": [],
   "source": [
    "import pandas as pd\n",
    "import numpy as np"
   ]
  },
  {
   "cell_type": "code",
   "execution_count": 2,
   "metadata": {},
   "outputs": [],
   "source": [
    "df_fake = pd.read_csv(\"../raw_data/Fake.csv\")\n",
    "df_true = pd.read_csv(\"../raw_data/True.csv\")"
   ]
  },
  {
   "cell_type": "markdown",
   "metadata": {
    "heading_collapsed": true
   },
   "source": [
    "## Avereage characters per text (fake vs. true)\n",
    "> average fake: 2547 characters per text\n",
    "\n",
    "> average true: 2383 characters per text"
   ]
  },
  {
   "cell_type": "code",
   "execution_count": 3,
   "metadata": {
    "hidden": true
   },
   "outputs": [
    {
     "data": {
      "text/plain": [
       "2547.396235254035"
      ]
     },
     "execution_count": 3,
     "metadata": {},
     "output_type": "execute_result"
    }
   ],
   "source": [
    "fake_charac = df_fake['text'].str.len().sum()/len(df_fake.text)\n",
    "fake_charac"
   ]
  },
  {
   "cell_type": "code",
   "execution_count": 4,
   "metadata": {
    "hidden": true
   },
   "outputs": [
    {
     "data": {
      "text/plain": [
       "2383.278517065882"
      ]
     },
     "execution_count": 4,
     "metadata": {},
     "output_type": "execute_result"
    }
   ],
   "source": [
    "true_charac = df_true['text'].str.len().sum()/len(df_true.text)\n",
    "true_charac"
   ]
  },
  {
   "cell_type": "markdown",
   "metadata": {
    "heading_collapsed": true
   },
   "source": [
    "## ratio Number of punctuations per text\n",
    "> average fake: 2.3% of characters are punctuation\n",
    "\n",
    "> average true: 2.1% of characters are punctuation"
   ]
  },
  {
   "cell_type": "code",
   "execution_count": 5,
   "metadata": {
    "hidden": true
   },
   "outputs": [],
   "source": [
    "import string"
   ]
  },
  {
   "cell_type": "code",
   "execution_count": 6,
   "metadata": {
    "hidden": true
   },
   "outputs": [],
   "source": [
    "count = lambda l1,l2: sum([1 for x in l1 if x in l2])\n",
    "\n",
    "df_fake['count_punct'] = df_fake.text.apply(lambda s: count(s, string.punctuation))"
   ]
  },
  {
   "cell_type": "code",
   "execution_count": 7,
   "metadata": {
    "hidden": true
   },
   "outputs": [],
   "source": [
    "fake_punc = df_fake['count_punct'].sum()/len(df_fake['count_punct'])"
   ]
  },
  {
   "cell_type": "code",
   "execution_count": 8,
   "metadata": {
    "hidden": true
   },
   "outputs": [
    {
     "data": {
      "text/plain": [
       "0.023191765747459295"
      ]
     },
     "execution_count": 8,
     "metadata": {},
     "output_type": "execute_result"
    }
   ],
   "source": [
    "fake_punc / fake_charac"
   ]
  },
  {
   "cell_type": "code",
   "execution_count": 9,
   "metadata": {
    "hidden": true
   },
   "outputs": [],
   "source": [
    "count = lambda l1,l2: sum([1 for x in l1 if x in l2])\n",
    "\n",
    "df_true['count_punct'] = df_true.text.apply(lambda s: count(s, string.punctuation))"
   ]
  },
  {
   "cell_type": "code",
   "execution_count": 10,
   "metadata": {
    "hidden": true
   },
   "outputs": [],
   "source": [
    "true_punc = df_true['count_punct'].sum()/len(df_true['count_punct'])"
   ]
  },
  {
   "cell_type": "code",
   "execution_count": 11,
   "metadata": {
    "hidden": true
   },
   "outputs": [
    {
     "data": {
      "text/plain": [
       "0.02123368296756228"
      ]
     },
     "execution_count": 11,
     "metadata": {},
     "output_type": "execute_result"
    }
   ],
   "source": [
    "true_punc / true_charac"
   ]
  },
  {
   "cell_type": "markdown",
   "metadata": {
    "heading_collapsed": true
   },
   "source": [
    "## Compare type of punctuations of articles \n",
    "> most used fake: ,  .  -  :  )  (  /  ?  @  !  \n",
    "\n",
    "> most used true: .  ,  -  )  (  $  :  /  *  ? "
   ]
  },
  {
   "cell_type": "code",
   "execution_count": 12,
   "metadata": {
    "hidden": true
   },
   "outputs": [],
   "source": [
    "from collections import Counter"
   ]
  },
  {
   "cell_type": "code",
   "execution_count": 13,
   "metadata": {
    "hidden": true
   },
   "outputs": [],
   "source": [
    "df_fake['acc_punct_dict'] = df_fake.text.apply(lambda s: {k:v for k, v in Counter(s).items() if k in string.punctuation})"
   ]
  },
  {
   "cell_type": "code",
   "execution_count": 14,
   "metadata": {
    "hidden": true
   },
   "outputs": [
    {
     "data": {
      "text/plain": [
       ",    492193.0\n",
       ".    490881.0\n",
       "-     81302.0\n",
       ":     62466.0\n",
       ")     42754.0\n",
       "(     42446.0\n",
       "/     31792.0\n",
       "?     28310.0\n",
       "@     28177.0\n",
       "!     16976.0\n",
       "dtype: float64"
      ]
     },
     "execution_count": 14,
     "metadata": {},
     "output_type": "execute_result"
    }
   ],
   "source": [
    "df_fake.acc_punct_dict.apply(pd.Series).sum().sort_values(ascending=False).head(10)"
   ]
  },
  {
   "cell_type": "code",
   "execution_count": 15,
   "metadata": {
    "hidden": true
   },
   "outputs": [],
   "source": [
    "df_true['acc_punct_dict'] = df_true.text.apply(lambda s: {k:v for k, v in Counter(s).items() if k in string.punctuation})"
   ]
  },
  {
   "cell_type": "code",
   "execution_count": 16,
   "metadata": {
    "hidden": true
   },
   "outputs": [
    {
     "data": {
      "text/plain": [
       ".    449387.0\n",
       ",    415331.0\n",
       "-    113736.0\n",
       ")     35408.0\n",
       "(     35393.0\n",
       "$      9898.0\n",
       ":      7431.0\n",
       "/      3208.0\n",
       "*      2292.0\n",
       "?      2158.0\n",
       "dtype: float64"
      ]
     },
     "execution_count": 16,
     "metadata": {},
     "output_type": "execute_result"
    }
   ],
   "source": [
    "df_true.acc_punct_dict.apply(pd.Series).sum().sort_values(ascending=False).head(10)"
   ]
  },
  {
   "cell_type": "markdown",
   "metadata": {},
   "source": [
    "## Compare words\n",
    "> average fake: \n",
    "\n",
    "> average true: "
   ]
  },
  {
   "cell_type": "code",
   "execution_count": 17,
   "metadata": {},
   "outputs": [],
   "source": [
    "from wordcloud import WordCloud, STOPWORDS\n",
    "import matplotlib.pyplot as plt"
   ]
  },
  {
   "cell_type": "markdown",
   "metadata": {},
   "source": [
    "#wordcloud fake: just turn cell into code\n",
    "\n",
    "\n",
    "text = df_fake.text\n",
    "wordcloud = WordCloud(\n",
    "    width = 3000,\n",
    "    height = 2000,\n",
    "    background_color = 'black',\n",
    "    stopwords = STOPWORDS).generate(str(text))\n",
    "fig = plt.figure(\n",
    "    figsize = (40, 30),\n",
    "    facecolor = 'k',\n",
    "    edgecolor = 'k')\n",
    "plt.imshow(wordcloud, interpolation = 'bilinear')\n",
    "plt.axis('off')\n",
    "plt.tight_layout(pad=0)\n",
    "plt.show()"
   ]
  },
  {
   "cell_type": "markdown",
   "metadata": {},
   "source": [
    "#wordcloud true: just turn cell into code\n",
    "\n",
    "text = df_true.text\n",
    "wordcloud = WordCloud(\n",
    "    width = 3000,\n",
    "    height = 2000,\n",
    "    background_color = 'black',\n",
    "    stopwords = STOPWORDS).generate(str(text))\n",
    "fig = plt.figure(\n",
    "    figsize = (40, 30),\n",
    "    facecolor = 'k',\n",
    "    edgecolor = 'k')\n",
    "plt.imshow(wordcloud, interpolation = 'bilinear')\n",
    "plt.axis('off')\n",
    "plt.tight_layout(pad=0)\n",
    "plt.show()"
   ]
  },
  {
   "cell_type": "markdown",
   "metadata": {},
   "source": [
    "# DELETE THE FOLLOWING ROW"
   ]
  },
  {
   "cell_type": "code",
   "execution_count": 18,
   "metadata": {},
   "outputs": [],
   "source": [
    "df_fake = df_fake.head(100)\n",
    "df_true = df_true.head(100)"
   ]
  },
  {
   "cell_type": "markdown",
   "metadata": {},
   "source": [
    "# DELETE THE ROW ABOVE"
   ]
  },
  {
   "cell_type": "code",
   "execution_count": 19,
   "metadata": {},
   "outputs": [],
   "source": [
    "'''preprocess to check for most common words etc.'''\n",
    "\n",
    "from nltk.corpus import stopwords\n",
    "from nltk.tokenize import word_tokenize\n",
    "stop = stopwords.words('english')\n",
    "\n",
    "def delister(list):\n",
    "    return list[0]\n",
    "def depunctuator(text):\n",
    "    for x in string.punctuation:\n",
    "        text = text.replace(x, '')\n",
    "    return text\n",
    "def destopworder(text):\n",
    "    stop_words = set(stopwords.words('english'))\n",
    "    word_tokens = word_tokenize(text)\n",
    "    text = [w for w in word_tokens if not w in stop_words]\n",
    "    return text\n",
    "\n",
    "'''fake'''\n",
    "'''made everything lowercase'''\n",
    "df_fake['text'] = df_fake['text'].str.lower()\n",
    "'''removed all numbers'''\n",
    "df_fake['text'] = [[''.join(word for word in article if not word.isdigit())] for article in df_fake['text']]\n",
    "df_fake['text'] = df_fake['text'].apply(delister)\n",
    "'''removed punctuation'''\n",
    "df_fake['text'] = df_fake['text'].apply(depunctuator)\n",
    "'''removed stopwords'''\n",
    "df_fake['text'] = df_fake['text'].apply(destopworder)\n",
    "\n",
    "'''true'''\n",
    "'''made everything lowercase'''\n",
    "df_true['text'] = df_true['text'].str.lower()\n",
    "'''removed all numbers'''\n",
    "df_true['text'] = [[''.join(word for word in article if not word.isdigit())] for article in df_true['text']]\n",
    "df_true['text'] = df_true['text'].apply(delister)\n",
    "'''removed punctuation'''\n",
    "df_true['text'] = df_true['text'].apply(depunctuator)\n",
    "'''removed stopwords'''\n",
    "df_true['text'] = df_true['text'].apply(destopworder)\n"
   ]
  },
  {
   "cell_type": "markdown",
   "metadata": {},
   "source": [
    "## Most used words\n",
    "> average fake: \n",
    "\n",
    "> average true: "
   ]
  },
  {
   "cell_type": "code",
   "execution_count": 20,
   "metadata": {},
   "outputs": [],
   "source": [
    "from collections import Counter"
   ]
  },
  {
   "cell_type": "code",
   "execution_count": 21,
   "metadata": {},
   "outputs": [
    {
     "data": {
      "text/plain": [
       "trump        578\n",
       "november     169\n",
       "donald       154\n",
       "president    130\n",
       "december     121\n",
       "moore        120\n",
       "said         107\n",
       "time         107\n",
       "one          105\n",
       "people        94\n",
       "dtype: int64"
      ]
     },
     "execution_count": 21,
     "metadata": {},
     "output_type": "execute_result"
    }
   ],
   "source": [
    "fake_words = pd.Series(Counter([y for x in df_fake['text'] for y in x]))\n",
    "fake_words.sort_values(ascending=False).head(10)"
   ]
  },
  {
   "cell_type": "code",
   "execution_count": 22,
   "metadata": {},
   "outputs": [
    {
     "data": {
      "text/plain": [
       "’        567\n",
       "said     416\n",
       "“        375\n",
       "”        370\n",
       "trump    333\n",
       "us       271\n",
       "tax      243\n",
       "house    186\n",
       "would    181\n",
       "bill     165\n",
       "dtype: int64"
      ]
     },
     "execution_count": 22,
     "metadata": {},
     "output_type": "execute_result"
    }
   ],
   "source": [
    "true_words = pd.Series(Counter([y for x in df_true['text'] for y in x]))\n",
    "true_words.sort_values(ascending=False).head(10)"
   ]
  },
  {
   "cell_type": "markdown",
   "metadata": {},
   "source": [
    "## TITLE\n",
    "> average fake: \n",
    "\n",
    "> average true: "
   ]
  },
  {
   "cell_type": "code",
   "execution_count": null,
   "metadata": {},
   "outputs": [],
   "source": []
  }
 ],
 "metadata": {
  "kernelspec": {
   "display_name": "Python 3",
   "language": "python",
   "name": "python3"
  },
  "language_info": {
   "codemirror_mode": {
    "name": "ipython",
    "version": 3
   },
   "file_extension": ".py",
   "mimetype": "text/x-python",
   "name": "python",
   "nbconvert_exporter": "python",
   "pygments_lexer": "ipython3",
   "version": "3.7.7"
  },
  "toc": {
   "base_numbering": 1,
   "nav_menu": {},
   "number_sections": false,
   "sideBar": true,
   "skip_h1_title": false,
   "title_cell": "Table of Contents",
   "title_sidebar": "Contents",
   "toc_cell": false,
   "toc_position": {},
   "toc_section_display": true,
   "toc_window_display": true
  }
 },
 "nbformat": 4,
 "nbformat_minor": 4
}
