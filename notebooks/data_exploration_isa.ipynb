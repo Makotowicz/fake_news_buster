{
 "cells": [
  {
   "cell_type": "code",
   "execution_count": 12,
   "metadata": {},
   "outputs": [],
   "source": [
    "import pandas as pd\n",
    "import numpy as np\n",
    "from textblob import TextBlob"
   ]
  },
  {
   "cell_type": "code",
   "execution_count": 4,
   "metadata": {},
   "outputs": [],
   "source": [
    "df_fake = pd.read_csv(\"../raw_data/Fake.csv\")\n",
    "df_true = pd.read_csv(\"../raw_data/True.csv\")"
   ]
  },
  {
   "cell_type": "markdown",
   "metadata": {
    "heading_collapsed": true
   },
   "source": [
    "## Avereage characters per text (fake vs. true)\n",
    "> average fake: 2547 characters per text\n",
    "\n",
    "> average true: 2383 characters per text"
   ]
  },
  {
   "cell_type": "code",
   "execution_count": null,
   "metadata": {
    "hidden": true
   },
   "outputs": [],
   "source": [
    "fake_charac = df_fake['text'].str.len().sum()/len(df_fake.text)\n",
    "fake_charac"
   ]
  },
  {
   "cell_type": "code",
   "execution_count": null,
   "metadata": {
    "hidden": true
   },
   "outputs": [],
   "source": [
    "true_charac = df_true['text'].str.len().sum()/len(df_true.text)\n",
    "true_charac"
   ]
  },
  {
   "cell_type": "code",
   "execution_count": null,
   "metadata": {
    "hidden": true
   },
   "outputs": [],
   "source": [
    "def no_chracters(text):\n",
    "    for i in text: \n",
    "        fake_charac = len(text)\n",
    "    return fake_charac"
   ]
  },
  {
   "cell_type": "code",
   "execution_count": null,
   "metadata": {
    "hidden": true
   },
   "outputs": [],
   "source": [
    "def no_characters_df(df, column):\n",
    "    new_column_name = f'{column}_no_characters'\n",
    "    df[new_column_name] = df[column].apply(no_chracters)"
   ]
  },
  {
   "cell_type": "code",
   "execution_count": null,
   "metadata": {
    "hidden": true
   },
   "outputs": [],
   "source": [
    "no_characters_df(df_fake, 'text')"
   ]
  },
  {
   "cell_type": "markdown",
   "metadata": {
    "heading_collapsed": true
   },
   "source": [
    "## ratio Number of punctuations per text\n",
    "> average fake: 2.3% of characters are punctuation\n",
    "\n",
    "> average true: 2.1% of characters are punctuation"
   ]
  },
  {
   "cell_type": "code",
   "execution_count": 6,
   "metadata": {
    "hidden": true
   },
   "outputs": [],
   "source": [
    "import string"
   ]
  },
  {
   "cell_type": "code",
   "execution_count": null,
   "metadata": {
    "hidden": true
   },
   "outputs": [],
   "source": [
    "count = lambda l1,l2: sum([1 for x in l1 if x in l2])\n",
    "\n",
    "df_fake['count_punct'] = df_fake.text.apply(lambda s: count(s, string.punctuation))"
   ]
  },
  {
   "cell_type": "code",
   "execution_count": null,
   "metadata": {
    "hidden": true
   },
   "outputs": [],
   "source": [
    "fake_punc = df_fake['count_punct'].sum()/len(df_fake['count_punct'])"
   ]
  },
  {
   "cell_type": "code",
   "execution_count": null,
   "metadata": {
    "hidden": true
   },
   "outputs": [],
   "source": [
    "fake_punc / fake_charac"
   ]
  },
  {
   "cell_type": "code",
   "execution_count": null,
   "metadata": {
    "hidden": true
   },
   "outputs": [],
   "source": [
    "count = lambda l1,l2: sum([1 for x in l1 if x in l2])\n",
    "\n",
    "df_true['count_punct'] = df_true.text.apply(lambda s: count(s, string.punctuation))"
   ]
  },
  {
   "cell_type": "code",
   "execution_count": null,
   "metadata": {
    "hidden": true
   },
   "outputs": [],
   "source": [
    "true_punc = df_true['count_punct'].sum()/len(df_true['count_punct'])"
   ]
  },
  {
   "cell_type": "code",
   "execution_count": null,
   "metadata": {
    "hidden": true
   },
   "outputs": [],
   "source": [
    "true_punc / true_charac"
   ]
  },
  {
   "cell_type": "markdown",
   "metadata": {
    "heading_collapsed": true
   },
   "source": [
    "## Compare type of punctuations of articles \n",
    "> most used fake: ,  .  -  :  )  (  /  ?  @  !  \n",
    "\n",
    "> most used true: .  ,  -  )  (  $  :  /  *  ? "
   ]
  },
  {
   "cell_type": "code",
   "execution_count": 7,
   "metadata": {
    "hidden": true
   },
   "outputs": [],
   "source": [
    "from collections import Counter"
   ]
  },
  {
   "cell_type": "code",
   "execution_count": 8,
   "metadata": {
    "hidden": true
   },
   "outputs": [],
   "source": [
    "df_fake['acc_punct_dict'] = df_fake.text.apply(lambda s: {k:v for k, v in Counter(s).items() if k in string.punctuation})"
   ]
  },
  {
   "cell_type": "code",
   "execution_count": 9,
   "metadata": {
    "hidden": true
   },
   "outputs": [
    {
     "data": {
      "text/plain": [
       ".    44791.0\n",
       ",    43850.0\n",
       ")     5596.0\n",
       "(     5576.0\n",
       "@     5569.0\n",
       "-     5451.0\n",
       ":     4567.0\n",
       "/     4555.0\n",
       "?     2841.0\n",
       "!     1538.0\n",
       "'      915.0\n",
       "#      883.0\n",
       "\"      599.0\n",
       "_      544.0\n",
       "$      528.0\n",
       "&      456.0\n",
       "*      386.0\n",
       ";      268.0\n",
       "[      257.0\n",
       "]      257.0\n",
       "%      205.0\n",
       "=       92.0\n",
       "+       31.0\n",
       ">       19.0\n",
       "{       14.0\n",
       "}       14.0\n",
       "<       14.0\n",
       "~       10.0\n",
       "|        9.0\n",
       "^        4.0\n",
       "dtype: float64"
      ]
     },
     "execution_count": 9,
     "metadata": {},
     "output_type": "execute_result"
    }
   ],
   "source": [
    "df_fake.acc_punct_dict.apply(pd.Series).sum().sort_values(ascending=False).head(30)"
   ]
  },
  {
   "cell_type": "code",
   "execution_count": 10,
   "metadata": {
    "hidden": true
   },
   "outputs": [],
   "source": [
    "df_true['acc_punct_dict'] = df_true.text.apply(lambda s: {k:v for k, v in Counter(s).items() if k in string.punctuation})"
   ]
  },
  {
   "cell_type": "code",
   "execution_count": 11,
   "metadata": {
    "hidden": true
   },
   "outputs": [
    {
     "data": {
      "text/plain": [
       ".    44903.0\n",
       ",    38210.0\n",
       "-     9726.0\n",
       ")     3135.0\n",
       "(     3128.0\n",
       "$     1582.0\n",
       ":      883.0\n",
       "/      385.0\n",
       "[      330.0\n",
       "]      329.0\n",
       "!      319.0\n",
       "&      256.0\n",
       "@      242.0\n",
       "?      230.0\n",
       "*      203.0\n",
       ";      172.0\n",
       "#       66.0\n",
       "'       32.0\n",
       "\"       26.0\n",
       "_       16.0\n",
       "%       14.0\n",
       "=        6.0\n",
       "+        6.0\n",
       "{        2.0\n",
       "}        2.0\n",
       "dtype: float64"
      ]
     },
     "execution_count": 11,
     "metadata": {},
     "output_type": "execute_result"
    }
   ],
   "source": [
    "df_true.acc_punct_dict.apply(pd.Series).sum().sort_values(ascending=False).head(30)"
   ]
  },
  {
   "cell_type": "markdown",
   "metadata": {},
   "source": [
    "# DELETE THE FOLLOWING ROW"
   ]
  },
  {
   "cell_type": "code",
   "execution_count": 5,
   "metadata": {},
   "outputs": [],
   "source": [
    "df_fake = df_fake.head(2000)\n",
    "df_true = df_true.head(2000)"
   ]
  },
  {
   "cell_type": "markdown",
   "metadata": {},
   "source": [
    "# DELETE THE ROW ABOVE"
   ]
  },
  {
   "cell_type": "markdown",
   "metadata": {},
   "source": [
    "## repetitive words\n",
    "> average fake: \n",
    "\n",
    "> average true: "
   ]
  },
  {
   "cell_type": "code",
   "execution_count": null,
   "metadata": {},
   "outputs": [],
   "source": [
    "def split(text):\n",
    "    return text.split()\n",
    "\n",
    "df_fake_split = df_fake.text.apply(split)"
   ]
  },
  {
   "cell_type": "code",
   "execution_count": null,
   "metadata": {},
   "outputs": [],
   "source": [
    "df_fake_split[1]"
   ]
  },
  {
   "cell_type": "code",
   "execution_count": null,
   "metadata": {},
   "outputs": [],
   "source": [
    "def dedigiter(text):\n",
    "        text = [[''.join(word for word in article if not word.isdigit())] for article in text]\n",
    "        return text"
   ]
  },
  {
   "cell_type": "code",
   "execution_count": null,
   "metadata": {},
   "outputs": [],
   "source": [
    "xyz = df_fake_split.apply(dedigiter)\n",
    "xyz[2]"
   ]
  },
  {
   "cell_type": "code",
   "execution_count": null,
   "metadata": {},
   "outputs": [],
   "source": [
    "def dedigiter(text):\n",
    "    no_integers = [x for x in text if not (x.isdigit() \n",
    "                                             or x[0] == '-' and x[1:].isdigit())]\n",
    "    return no_integers"
   ]
  },
  {
   "cell_type": "code",
   "execution_count": null,
   "metadata": {},
   "outputs": [],
   "source": [
    "dedigiter(df_fake['text'])"
   ]
  },
  {
   "cell_type": "markdown",
   "metadata": {
    "heading_collapsed": true
   },
   "source": [
    "## Spellcheck \n",
    "> average fake: \n",
    "\n",
    "> average true: "
   ]
  },
  {
   "cell_type": "code",
   "execution_count": null,
   "metadata": {
    "hidden": true
   },
   "outputs": [],
   "source": [
    "from spellchecker import SpellChecker"
   ]
  },
  {
   "cell_type": "code",
   "execution_count": null,
   "metadata": {
    "hidden": true
   },
   "outputs": [],
   "source": [
    "def split(text): \n",
    "    return text.split()"
   ]
  },
  {
   "cell_type": "code",
   "execution_count": null,
   "metadata": {
    "hidden": true
   },
   "outputs": [],
   "source": [
    "df_fake.text.apply(split)"
   ]
  },
  {
   "cell_type": "code",
   "execution_count": null,
   "metadata": {
    "hidden": true
   },
   "outputs": [],
   "source": [
    "def spellchecker(text):\n",
    "    for i in text:\n",
    "        spell = SpellChecker()\n",
    "        misspelled = spell.unknown(text)\n",
    "        return len(misspelled)\n",
    "    \n",
    "df_fake['spell_count'] = df_fake['text'].apply(spellchecker)\n",
    "df_true['spell_count'] = df_fake['text'].apply(spellchecker)"
   ]
  },
  {
   "cell_type": "code",
   "execution_count": null,
   "metadata": {
    "hidden": true
   },
   "outputs": [],
   "source": [
    "def spellchecker(text):\n",
    "    for i in text:\n",
    "        spell = SpellChecker()\n",
    "        misspelled = spell.unknown(text) \n",
    "    return list(misspelled)\n",
    "    \n",
    "xyz = df_fake['text'].apply(spellchecker) "
   ]
  },
  {
   "cell_type": "code",
   "execution_count": null,
   "metadata": {
    "hidden": true
   },
   "outputs": [],
   "source": [
    "xyz"
   ]
  },
  {
   "cell_type": "code",
   "execution_count": null,
   "metadata": {
    "hidden": true
   },
   "outputs": [],
   "source": [
    "import itertools\n",
    "itertools.chain()"
   ]
  },
  {
   "cell_type": "code",
   "execution_count": null,
   "metadata": {
    "hidden": true
   },
   "outputs": [],
   "source": [
    "k = list(xyz[1])\n",
    "k"
   ]
  },
  {
   "cell_type": "markdown",
   "metadata": {
    "heading_collapsed": true
   },
   "source": [
    "## Compare words\n",
    "> average fake: \n",
    "\n",
    "> average true: "
   ]
  },
  {
   "cell_type": "markdown",
   "metadata": {
    "hidden": true
   },
   "source": [
    "from wordcloud import WordCloud, STOPWORDS\n",
    "import matplotlib.pyplot as plt\n",
    "\n",
    "#wordcloud fake: just turn cell into code\n",
    "\n",
    "\n",
    "text = df_fake.text\n",
    "wordcloud = WordCloud(\n",
    "    width = 3000,\n",
    "    height = 2000,\n",
    "    background_color = 'black',\n",
    "    stopwords = STOPWORDS).generate(str(text))\n",
    "fig = plt.figure(\n",
    "    figsize = (40, 30),\n",
    "    facecolor = 'k',\n",
    "    edgecolor = 'k')\n",
    "plt.imshow(wordcloud, interpolation = 'bilinear')\n",
    "plt.axis('off')\n",
    "plt.tight_layout(pad=0)\n",
    "plt.show()\n",
    "\n",
    "\n",
    "\n",
    "#wordcloud true: just turn cell into code\n",
    "\n",
    "text = df_true.text\n",
    "wordcloud = WordCloud(\n",
    "    width = 3000,\n",
    "    height = 2000,\n",
    "    background_color = 'black',\n",
    "    stopwords = STOPWORDS).generate(str(text))\n",
    "fig = plt.figure(\n",
    "    figsize = (40, 30),\n",
    "    facecolor = 'k',\n",
    "    edgecolor = 'k')\n",
    "plt.imshow(wordcloud, interpolation = 'bilinear')\n",
    "plt.axis('off')\n",
    "plt.tight_layout(pad=0)\n",
    "plt.show()"
   ]
  },
  {
   "cell_type": "code",
   "execution_count": null,
   "metadata": {
    "hidden": true
   },
   "outputs": [],
   "source": [
    "'''preprocess to check for most common words etc.'''\n",
    "\n",
    "from nltk.corpus import stopwords\n",
    "from nltk.tokenize import word_tokenize\n",
    "stop = stopwords.words('english')\n",
    "\n",
    "def delister(list):\n",
    "    return list[0]\n",
    "def depunctuator(text):\n",
    "    for x in string.punctuation:\n",
    "        text = text.replace(x, '')\n",
    "    return text\n",
    "def destopworder(text):\n",
    "    stop_words = set(stopwords.words('english'))\n",
    "    word_tokens = word_tokenize(text)\n",
    "    text = [w for w in word_tokens if not w in stop_words]\n",
    "    return text\n",
    "\n",
    "'''fake'''\n",
    "'''made everything lowercase'''\n",
    "df_fake['text'] = df_fake['text'].str.lower()\n",
    "'''removed all numbers'''\n",
    "df_fake['text'] = [[''.join(word for word in article if not word.isdigit())] for article in df_fake['text']]\n",
    "df_fake['text'] = df_fake['text'].apply(delister)\n",
    "'''removed punctuation'''\n",
    "df_fake['text'] = df_fake['text'].apply(depunctuator)\n",
    "'''removed stopwords'''\n",
    "df_fake['text'] = df_fake['text'].apply(destopworder)\n",
    "\n",
    "'''true'''\n",
    "'''made everything lowercase'''\n",
    "df_true['text'] = df_true['text'].str.lower()\n",
    "'''removed all numbers'''\n",
    "df_true['text'] = [[''.join(word for word in article if not word.isdigit())] for article in df_true['text']]\n",
    "df_true['text'] = df_true['text'].apply(delister)\n",
    "'''removed punctuation'''\n",
    "df_true['text'] = df_true['text'].apply(depunctuator)\n",
    "'''removed stopwords'''\n",
    "df_true['text'] = df_true['text'].apply(destopworder)\n"
   ]
  },
  {
   "cell_type": "markdown",
   "metadata": {
    "heading_collapsed": true
   },
   "source": [
    "## Most used words\n",
    "> average fake: \n",
    "\n",
    "> average true: "
   ]
  },
  {
   "cell_type": "code",
   "execution_count": null,
   "metadata": {
    "hidden": true
   },
   "outputs": [],
   "source": [
    "from collections import Counter"
   ]
  },
  {
   "cell_type": "code",
   "execution_count": null,
   "metadata": {
    "hidden": true
   },
   "outputs": [],
   "source": [
    "fake_words = pd.Series(Counter([y for x in df_fake['text'] for y in x]))\n",
    "fake_words.sort_values(ascending=False).head(20)"
   ]
  },
  {
   "cell_type": "code",
   "execution_count": null,
   "metadata": {
    "hidden": true
   },
   "outputs": [],
   "source": [
    "true_words = pd.Series(Counter([y for x in df_true['text'] for y in x]))\n",
    "true_words.sort_values(ascending=False).head(20)"
   ]
  },
  {
   "cell_type": "markdown",
   "metadata": {},
   "source": [
    "## TITLE\n",
    "> average fake: \n",
    "\n",
    "> average true: "
   ]
  },
  {
   "cell_type": "code",
   "execution_count": null,
   "metadata": {},
   "outputs": [],
   "source": []
  }
 ],
 "metadata": {
  "kernelspec": {
   "display_name": "Python 3",
   "language": "python",
   "name": "python3"
  },
  "language_info": {
   "codemirror_mode": {
    "name": "ipython",
    "version": 3
   },
   "file_extension": ".py",
   "mimetype": "text/x-python",
   "name": "python",
   "nbconvert_exporter": "python",
   "pygments_lexer": "ipython3",
   "version": "3.7.7"
  },
  "toc": {
   "base_numbering": 1,
   "nav_menu": {},
   "number_sections": false,
   "sideBar": true,
   "skip_h1_title": false,
   "title_cell": "Table of Contents",
   "title_sidebar": "Contents",
   "toc_cell": false,
   "toc_position": {},
   "toc_section_display": true,
   "toc_window_display": true
  }
 },
 "nbformat": 4,
 "nbformat_minor": 4
}
