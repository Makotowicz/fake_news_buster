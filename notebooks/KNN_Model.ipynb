{
 "cells": [
  {
   "cell_type": "markdown",
   "metadata": {},
   "source": [
    "## KNN Classifier Model\n"
   ]
  },
  {
   "cell_type": "code",
   "execution_count": 1,
   "metadata": {},
   "outputs": [],
   "source": [
    "import numpy as np\n",
    "import pandas as pd\n",
    "import matplotlib as plt\n",
    "from datetime import datetime\n",
    "import os\n",
    "from sklearn import metrics\n",
    "from sklearn.metrics import classification_report"
   ]
  },
  {
   "cell_type": "code",
   "execution_count": 2,
   "metadata": {},
   "outputs": [],
   "source": [
    "data = pd.read_csv(\"C:\\\\Users\\\\Brigitta Bartsch\\\\code\\\\PROJECT_Fake_News_Detection\\\\fake_news_buster\\\\fake_news_buster\\\\data\\\\BuzzFeed.csv\")"
   ]
  },
  {
   "cell_type": "code",
   "execution_count": 30,
   "metadata": {},
   "outputs": [
    {
     "data": {
      "text/plain": [
       "'Charity: Clinton Foundation Distributed “Watered-Down” AIDS Drugs to Sub-Saharan Africa – Eagle Rising'"
      ]
     },
     "execution_count": 30,
     "metadata": {},
     "output_type": "execute_result"
    }
   ],
   "source": [
    "data[\"title\"][1]"
   ]
  },
  {
   "cell_type": "code",
   "execution_count": 33,
   "metadata": {},
   "outputs": [
    {
     "data": {
      "text/html": [
       "<div>\n",
       "<style scoped>\n",
       "    .dataframe tbody tr th:only-of-type {\n",
       "        vertical-align: middle;\n",
       "    }\n",
       "\n",
       "    .dataframe tbody tr th {\n",
       "        vertical-align: top;\n",
       "    }\n",
       "\n",
       "    .dataframe thead th {\n",
       "        text-align: right;\n",
       "    }\n",
       "</style>\n",
       "<table border=\"1\" class=\"dataframe\">\n",
       "  <thead>\n",
       "    <tr style=\"text-align: right;\">\n",
       "      <th></th>\n",
       "      <th>Unnamed: 0</th>\n",
       "      <th>title</th>\n",
       "      <th>text</th>\n",
       "      <th>date</th>\n",
       "      <th>true/false</th>\n",
       "      <th>true/false_description</th>\n",
       "      <th>day_friday</th>\n",
       "      <th>day_monday</th>\n",
       "      <th>day_saturday</th>\n",
       "      <th>day_sunday</th>\n",
       "      <th>...</th>\n",
       "      <th>title_Vader_compound_score</th>\n",
       "      <th>text_no_characters</th>\n",
       "      <th>title_no_characters</th>\n",
       "      <th>character_ratio</th>\n",
       "      <th>upper_case_ratio</th>\n",
       "      <th>numbers_ratio</th>\n",
       "      <th>vocab_richness_text</th>\n",
       "      <th>vocab_richness_title</th>\n",
       "      <th>typo_ratio_text</th>\n",
       "      <th>typo_ratio_title</th>\n",
       "    </tr>\n",
       "  </thead>\n",
       "  <tbody>\n",
       "    <tr>\n",
       "      <th>0</th>\n",
       "      <td>0</td>\n",
       "      <td>Proof The Mainstream Media Is Manipulating The...</td>\n",
       "      <td>I woke up this morning to find a variation of ...</td>\n",
       "      <td>2016-09-19 00:00:00</td>\n",
       "      <td>1</td>\n",
       "      <td>fake</td>\n",
       "      <td>0.0</td>\n",
       "      <td>1.0</td>\n",
       "      <td>0.0</td>\n",
       "      <td>0.0</td>\n",
       "      <td>...</td>\n",
       "      <td>0.307006</td>\n",
       "      <td>0.076511</td>\n",
       "      <td>0.598131</td>\n",
       "      <td>0.0</td>\n",
       "      <td>0.355764</td>\n",
       "      <td>0.0</td>\n",
       "      <td>0.478851</td>\n",
       "      <td>0.777778</td>\n",
       "      <td>0.275627</td>\n",
       "      <td>0.033547</td>\n",
       "    </tr>\n",
       "    <tr>\n",
       "      <th>1</th>\n",
       "      <td>1</td>\n",
       "      <td>Charity: Clinton Foundation Distributed “Water...</td>\n",
       "      <td>Former President Bill Clinton and his Clinton ...</td>\n",
       "      <td>2016-09-21 00:08:41</td>\n",
       "      <td>1</td>\n",
       "      <td>fake</td>\n",
       "      <td>0.0</td>\n",
       "      <td>0.0</td>\n",
       "      <td>0.0</td>\n",
       "      <td>0.0</td>\n",
       "      <td>...</td>\n",
       "      <td>0.760220</td>\n",
       "      <td>0.257682</td>\n",
       "      <td>0.682243</td>\n",
       "      <td>0.0</td>\n",
       "      <td>0.344986</td>\n",
       "      <td>0.0</td>\n",
       "      <td>0.318641</td>\n",
       "      <td>1.000000</td>\n",
       "      <td>0.072207</td>\n",
       "      <td>0.314406</td>\n",
       "    </tr>\n",
       "    <tr>\n",
       "      <th>2</th>\n",
       "      <td>2</td>\n",
       "      <td>A Hillary Clinton Administration May be Entire...</td>\n",
       "      <td>After collapsing just before trying to step in...</td>\n",
       "      <td>2016-09-21 00:10:38</td>\n",
       "      <td>1</td>\n",
       "      <td>fake</td>\n",
       "      <td>0.0</td>\n",
       "      <td>0.0</td>\n",
       "      <td>0.0</td>\n",
       "      <td>0.0</td>\n",
       "      <td>...</td>\n",
       "      <td>0.516155</td>\n",
       "      <td>0.084669</td>\n",
       "      <td>0.504673</td>\n",
       "      <td>0.0</td>\n",
       "      <td>0.520393</td>\n",
       "      <td>0.0</td>\n",
       "      <td>0.422034</td>\n",
       "      <td>1.000000</td>\n",
       "      <td>0.082822</td>\n",
       "      <td>0.165216</td>\n",
       "    </tr>\n",
       "    <tr>\n",
       "      <th>3</th>\n",
       "      <td>3</td>\n",
       "      <td>Trump’s Latest Campaign Promise May Be His Mos...</td>\n",
       "      <td>Donald Trump is, well, deplorable. He’s sugges...</td>\n",
       "      <td>2016-09-19 00:00:00</td>\n",
       "      <td>1</td>\n",
       "      <td>fake</td>\n",
       "      <td>0.0</td>\n",
       "      <td>1.0</td>\n",
       "      <td>0.0</td>\n",
       "      <td>0.0</td>\n",
       "      <td>...</td>\n",
       "      <td>0.307875</td>\n",
       "      <td>0.116363</td>\n",
       "      <td>0.327103</td>\n",
       "      <td>0.0</td>\n",
       "      <td>0.381532</td>\n",
       "      <td>0.0</td>\n",
       "      <td>0.396333</td>\n",
       "      <td>1.000000</td>\n",
       "      <td>0.219868</td>\n",
       "      <td>0.235804</td>\n",
       "    </tr>\n",
       "    <tr>\n",
       "      <th>4</th>\n",
       "      <td>4</td>\n",
       "      <td>Obama Pushes One World Government</td>\n",
       "      <td>When President Obama spoke at the United Natio...</td>\n",
       "      <td>2016-09-20 00:00:00</td>\n",
       "      <td>1</td>\n",
       "      <td>fake</td>\n",
       "      <td>0.0</td>\n",
       "      <td>0.0</td>\n",
       "      <td>0.0</td>\n",
       "      <td>0.0</td>\n",
       "      <td>...</td>\n",
       "      <td>0.516155</td>\n",
       "      <td>0.012478</td>\n",
       "      <td>0.037383</td>\n",
       "      <td>0.0</td>\n",
       "      <td>0.331967</td>\n",
       "      <td>0.0</td>\n",
       "      <td>0.769705</td>\n",
       "      <td>1.000000</td>\n",
       "      <td>0.791339</td>\n",
       "      <td>0.226460</td>\n",
       "    </tr>\n",
       "  </tbody>\n",
       "</table>\n",
       "<p>5 rows × 34 columns</p>\n",
       "</div>"
      ],
      "text/plain": [
       "   Unnamed: 0                                              title  \\\n",
       "0           0  Proof The Mainstream Media Is Manipulating The...   \n",
       "1           1  Charity: Clinton Foundation Distributed “Water...   \n",
       "2           2  A Hillary Clinton Administration May be Entire...   \n",
       "3           3  Trump’s Latest Campaign Promise May Be His Mos...   \n",
       "4           4                  Obama Pushes One World Government   \n",
       "\n",
       "                                                text                date  \\\n",
       "0  I woke up this morning to find a variation of ... 2016-09-19 00:00:00   \n",
       "1  Former President Bill Clinton and his Clinton ... 2016-09-21 00:08:41   \n",
       "2  After collapsing just before trying to step in... 2016-09-21 00:10:38   \n",
       "3  Donald Trump is, well, deplorable. He’s sugges... 2016-09-19 00:00:00   \n",
       "4  When President Obama spoke at the United Natio... 2016-09-20 00:00:00   \n",
       "\n",
       "   true/false true/false_description  day_friday  day_monday  day_saturday  \\\n",
       "0           1                   fake         0.0         1.0           0.0   \n",
       "1           1                   fake         0.0         0.0           0.0   \n",
       "2           1                   fake         0.0         0.0           0.0   \n",
       "3           1                   fake         0.0         1.0           0.0   \n",
       "4           1                   fake         0.0         0.0           0.0   \n",
       "\n",
       "   day_sunday  ...  title_Vader_compound_score  text_no_characters  \\\n",
       "0         0.0  ...                    0.307006            0.076511   \n",
       "1         0.0  ...                    0.760220            0.257682   \n",
       "2         0.0  ...                    0.516155            0.084669   \n",
       "3         0.0  ...                    0.307875            0.116363   \n",
       "4         0.0  ...                    0.516155            0.012478   \n",
       "\n",
       "   title_no_characters  character_ratio  upper_case_ratio  numbers_ratio  \\\n",
       "0             0.598131              0.0          0.355764            0.0   \n",
       "1             0.682243              0.0          0.344986            0.0   \n",
       "2             0.504673              0.0          0.520393            0.0   \n",
       "3             0.327103              0.0          0.381532            0.0   \n",
       "4             0.037383              0.0          0.331967            0.0   \n",
       "\n",
       "   vocab_richness_text  vocab_richness_title  typo_ratio_text  \\\n",
       "0             0.478851              0.777778         0.275627   \n",
       "1             0.318641              1.000000         0.072207   \n",
       "2             0.422034              1.000000         0.082822   \n",
       "3             0.396333              1.000000         0.219868   \n",
       "4             0.769705              1.000000         0.791339   \n",
       "\n",
       "   typo_ratio_title  \n",
       "0          0.033547  \n",
       "1          0.314406  \n",
       "2          0.165216  \n",
       "3          0.235804  \n",
       "4          0.226460  \n",
       "\n",
       "[5 rows x 34 columns]"
      ]
     },
     "execution_count": 33,
     "metadata": {},
     "output_type": "execute_result"
    }
   ],
   "source": [
    "data.head()"
   ]
  },
  {
   "cell_type": "code",
   "execution_count": 32,
   "metadata": {},
   "outputs": [
    {
     "data": {
      "text/plain": [
       "Timestamp('2016-09-21 00:08:41')"
      ]
     },
     "execution_count": 32,
     "metadata": {},
     "output_type": "execute_result"
    }
   ],
   "source": [
    "data[\"date\"][1]"
   ]
  },
  {
   "cell_type": "code",
   "execution_count": 4,
   "metadata": {},
   "outputs": [],
   "source": [
    "# '#data = pd.concat([data.head(5), data.tail(100)])\n",
    "# data = data.head(10)'\n",
    "data[\"date\"] = pd.to_datetime(data[\"date\"])\n",
    "\n",
    "\n",
    "#Checking weekdays\n",
    "# data[\"date\"][0].weekday()\n",
    "\n",
    "# date_today = \"29-08-2020\"\n",
    "# date_today = pd.to_datetime(date_today)\n",
    "# date_today.weekday()"
   ]
  },
  {
   "cell_type": "code",
   "execution_count": 78,
   "metadata": {},
   "outputs": [],
   "source": [
    "#Check for pattern of weekdays\n",
    "\n",
    "# def get_weekday(x):\n",
    "#     return x.weekday()\n",
    "    \n",
    "# data[\"weekday\"] = data[\"date\"].apply(get_weekday)\n",
    "# data.groupby(\"weekday\").count()"
   ]
  },
  {
   "cell_type": "code",
   "execution_count": null,
   "metadata": {},
   "outputs": [],
   "source": []
  },
  {
   "cell_type": "markdown",
   "metadata": {},
   "source": [
    "**Importing the model**"
   ]
  },
  {
   "cell_type": "code",
   "execution_count": 6,
   "metadata": {},
   "outputs": [],
   "source": [
    "from sklearn.neighbors import KNeighborsClassifier\n"
   ]
  },
  {
   "cell_type": "markdown",
   "metadata": {},
   "source": [
    "**Defining X and y**"
   ]
  },
  {
   "cell_type": "code",
   "execution_count": 10,
   "metadata": {},
   "outputs": [],
   "source": [
    "X = data.drop(columns=[\"true/false\", \"true/false_description\", \"date\",\"Unnamed: 0\", \"title\",\"text\"])\n",
    "y = data[\"true/false\"]"
   ]
  },
  {
   "cell_type": "code",
   "execution_count": 11,
   "metadata": {},
   "outputs": [
    {
     "data": {
      "text/plain": [
       "Index(['day_friday', 'day_monday', 'day_saturday', 'day_sunday',\n",
       "       'day_thursday', 'day_tuesday', 'day_wednesday',\n",
       "       'text_TextBlob_polarity_score', 'text_TextBlob_subjectivity_score',\n",
       "       'text_Vader_negative_score', 'text_Vader_neutral_score',\n",
       "       'text_Vader_positive_score', 'text_Vader_compound_score',\n",
       "       'title_TextBlob_polarity_score', 'title_TextBlob_subjectivity_score',\n",
       "       'title_Vader_negative_score', 'title_Vader_neutral_score',\n",
       "       'title_Vader_positive_score', 'title_Vader_compound_score',\n",
       "       'text_no_characters', 'title_no_characters', 'character_ratio',\n",
       "       'upper_case_ratio', 'numbers_ratio', 'vocab_richness_text',\n",
       "       'vocab_richness_title', 'typo_ratio_text', 'typo_ratio_title'],\n",
       "      dtype='object')"
      ]
     },
     "execution_count": 11,
     "metadata": {},
     "output_type": "execute_result"
    }
   ],
   "source": [
    "X.columns"
   ]
  },
  {
   "cell_type": "markdown",
   "metadata": {},
   "source": [
    "**Holdout**\n"
   ]
  },
  {
   "cell_type": "code",
   "execution_count": 12,
   "metadata": {},
   "outputs": [],
   "source": [
    "from sklearn.model_selection import train_test_split\n",
    "\n",
    "X_train, X_test, y_train, y_test = train_test_split(X,y, test_size=0.3,random_state=2)"
   ]
  },
  {
   "cell_type": "code",
   "execution_count": 13,
   "metadata": {},
   "outputs": [
    {
     "name": "stdout",
     "output_type": "stream",
     "text": [
      "(93, 28)\n",
      "(93,)\n",
      "(40, 28)\n",
      "(40,)\n"
     ]
    }
   ],
   "source": [
    "print(X_train.shape)\n",
    "print(y_train.shape)\n",
    "print(X_test.shape)\n",
    "print(y_test.shape)"
   ]
  },
  {
   "cell_type": "markdown",
   "metadata": {},
   "source": [
    "**Model training**"
   ]
  },
  {
   "cell_type": "code",
   "execution_count": 14,
   "metadata": {},
   "outputs": [
    {
     "data": {
      "text/plain": [
       "KNeighborsClassifier()"
      ]
     },
     "execution_count": 14,
     "metadata": {},
     "output_type": "execute_result"
    }
   ],
   "source": [
    "KNN_model = KNeighborsClassifier(n_neighbors=5)\n",
    "\n",
    "KNN_model.fit(X_train,y_train)\n",
    "\n"
   ]
  },
  {
   "cell_type": "code",
   "execution_count": 21,
   "metadata": {},
   "outputs": [
    {
     "data": {
      "text/plain": [
       "0.65"
      ]
     },
     "execution_count": 21,
     "metadata": {},
     "output_type": "execute_result"
    }
   ],
   "source": [
    "KNN_model.score(X_test,y_test)"
   ]
  },
  {
   "cell_type": "code",
   "execution_count": 16,
   "metadata": {},
   "outputs": [],
   "source": [
    "y_pred = KNN_model.predict(X_test)"
   ]
  },
  {
   "cell_type": "code",
   "execution_count": 22,
   "metadata": {},
   "outputs": [
    {
     "name": "stdout",
     "output_type": "stream",
     "text": [
      "0.75\n",
      "0.6923076923076923\n"
     ]
    }
   ],
   "source": [
    "from sklearn.metrics import recall_score\n",
    "from sklearn.metrics import precision_score\n",
    "print(recall_score(y_test, y_pred))\n",
    "print(precision_score(y_test, y_pred))"
   ]
  },
  {
   "cell_type": "code",
   "execution_count": 23,
   "metadata": {},
   "outputs": [
    {
     "data": {
      "text/html": [
       "<div>\n",
       "<style scoped>\n",
       "    .dataframe tbody tr th:only-of-type {\n",
       "        vertical-align: middle;\n",
       "    }\n",
       "\n",
       "    .dataframe tbody tr th {\n",
       "        vertical-align: top;\n",
       "    }\n",
       "\n",
       "    .dataframe thead th {\n",
       "        text-align: right;\n",
       "    }\n",
       "</style>\n",
       "<table border=\"1\" class=\"dataframe\">\n",
       "  <thead>\n",
       "    <tr style=\"text-align: right;\">\n",
       "      <th></th>\n",
       "      <th>day_friday</th>\n",
       "      <th>day_monday</th>\n",
       "      <th>day_saturday</th>\n",
       "      <th>day_sunday</th>\n",
       "      <th>day_thursday</th>\n",
       "      <th>day_tuesday</th>\n",
       "      <th>day_wednesday</th>\n",
       "      <th>text_TextBlob_polarity_score</th>\n",
       "      <th>text_TextBlob_subjectivity_score</th>\n",
       "      <th>text_Vader_negative_score</th>\n",
       "      <th>...</th>\n",
       "      <th>title_Vader_compound_score</th>\n",
       "      <th>text_no_characters</th>\n",
       "      <th>title_no_characters</th>\n",
       "      <th>character_ratio</th>\n",
       "      <th>upper_case_ratio</th>\n",
       "      <th>numbers_ratio</th>\n",
       "      <th>vocab_richness_text</th>\n",
       "      <th>vocab_richness_title</th>\n",
       "      <th>typo_ratio_text</th>\n",
       "      <th>typo_ratio_title</th>\n",
       "    </tr>\n",
       "  </thead>\n",
       "  <tbody>\n",
       "    <tr>\n",
       "      <th>3</th>\n",
       "      <td>0.0</td>\n",
       "      <td>1.0</td>\n",
       "      <td>0.0</td>\n",
       "      <td>0.0</td>\n",
       "      <td>0.0</td>\n",
       "      <td>0.0</td>\n",
       "      <td>0.0</td>\n",
       "      <td>0.588847</td>\n",
       "      <td>0.402116</td>\n",
       "      <td>0.527076</td>\n",
       "      <td>...</td>\n",
       "      <td>0.307875</td>\n",
       "      <td>0.116363</td>\n",
       "      <td>0.327103</td>\n",
       "      <td>0.0</td>\n",
       "      <td>0.381532</td>\n",
       "      <td>0.0</td>\n",
       "      <td>0.396333</td>\n",
       "      <td>1.0</td>\n",
       "      <td>0.219868</td>\n",
       "      <td>0.235804</td>\n",
       "    </tr>\n",
       "  </tbody>\n",
       "</table>\n",
       "<p>1 rows × 28 columns</p>\n",
       "</div>"
      ],
      "text/plain": [
       "   day_friday  day_monday  day_saturday  day_sunday  day_thursday  \\\n",
       "3         0.0         1.0           0.0         0.0           0.0   \n",
       "\n",
       "   day_tuesday  day_wednesday  text_TextBlob_polarity_score  \\\n",
       "3          0.0            0.0                      0.588847   \n",
       "\n",
       "   text_TextBlob_subjectivity_score  text_Vader_negative_score  ...  \\\n",
       "3                          0.402116                   0.527076  ...   \n",
       "\n",
       "   title_Vader_compound_score  text_no_characters  title_no_characters  \\\n",
       "3                    0.307875            0.116363             0.327103   \n",
       "\n",
       "   character_ratio  upper_case_ratio  numbers_ratio  vocab_richness_text  \\\n",
       "3              0.0          0.381532            0.0             0.396333   \n",
       "\n",
       "   vocab_richness_title  typo_ratio_text  typo_ratio_title  \n",
       "3                   1.0         0.219868          0.235804  \n",
       "\n",
       "[1 rows x 28 columns]"
      ]
     },
     "execution_count": 23,
     "metadata": {},
     "output_type": "execute_result"
    }
   ],
   "source": [
    "X_pred_fake = pd.DataFrame(X.loc[3,:]).T\n",
    "X_pred_fake"
   ]
  },
  {
   "cell_type": "code",
   "execution_count": 24,
   "metadata": {},
   "outputs": [
    {
     "data": {
      "text/plain": [
       "array([1], dtype=int64)"
      ]
     },
     "execution_count": 24,
     "metadata": {},
     "output_type": "execute_result"
    }
   ],
   "source": [
    "KNN_model.predict(X_pred_fake)"
   ]
  },
  {
   "cell_type": "code",
   "execution_count": 25,
   "metadata": {},
   "outputs": [
    {
     "data": {
      "text/html": [
       "<div>\n",
       "<style scoped>\n",
       "    .dataframe tbody tr th:only-of-type {\n",
       "        vertical-align: middle;\n",
       "    }\n",
       "\n",
       "    .dataframe tbody tr th {\n",
       "        vertical-align: top;\n",
       "    }\n",
       "\n",
       "    .dataframe thead th {\n",
       "        text-align: right;\n",
       "    }\n",
       "</style>\n",
       "<table border=\"1\" class=\"dataframe\">\n",
       "  <thead>\n",
       "    <tr style=\"text-align: right;\">\n",
       "      <th></th>\n",
       "      <th>day_friday</th>\n",
       "      <th>day_monday</th>\n",
       "      <th>day_saturday</th>\n",
       "      <th>day_sunday</th>\n",
       "      <th>day_thursday</th>\n",
       "      <th>day_tuesday</th>\n",
       "      <th>day_wednesday</th>\n",
       "      <th>text_TextBlob_polarity_score</th>\n",
       "      <th>text_TextBlob_subjectivity_score</th>\n",
       "      <th>text_Vader_negative_score</th>\n",
       "      <th>...</th>\n",
       "      <th>title_Vader_compound_score</th>\n",
       "      <th>text_no_characters</th>\n",
       "      <th>title_no_characters</th>\n",
       "      <th>character_ratio</th>\n",
       "      <th>upper_case_ratio</th>\n",
       "      <th>numbers_ratio</th>\n",
       "      <th>vocab_richness_text</th>\n",
       "      <th>vocab_richness_title</th>\n",
       "      <th>typo_ratio_text</th>\n",
       "      <th>typo_ratio_title</th>\n",
       "    </tr>\n",
       "  </thead>\n",
       "  <tbody>\n",
       "    <tr>\n",
       "      <th>2</th>\n",
       "      <td>0.0</td>\n",
       "      <td>0.0</td>\n",
       "      <td>0.0</td>\n",
       "      <td>0.0</td>\n",
       "      <td>0.0</td>\n",
       "      <td>0.0</td>\n",
       "      <td>1.0</td>\n",
       "      <td>0.672309</td>\n",
       "      <td>0.3498</td>\n",
       "      <td>0.083032</td>\n",
       "      <td>...</td>\n",
       "      <td>0.516155</td>\n",
       "      <td>0.084669</td>\n",
       "      <td>0.504673</td>\n",
       "      <td>0.0</td>\n",
       "      <td>0.520393</td>\n",
       "      <td>0.0</td>\n",
       "      <td>0.422034</td>\n",
       "      <td>1.0</td>\n",
       "      <td>0.082822</td>\n",
       "      <td>0.165216</td>\n",
       "    </tr>\n",
       "  </tbody>\n",
       "</table>\n",
       "<p>1 rows × 28 columns</p>\n",
       "</div>"
      ],
      "text/plain": [
       "   day_friday  day_monday  day_saturday  day_sunday  day_thursday  \\\n",
       "2         0.0         0.0           0.0         0.0           0.0   \n",
       "\n",
       "   day_tuesday  day_wednesday  text_TextBlob_polarity_score  \\\n",
       "2          0.0            1.0                      0.672309   \n",
       "\n",
       "   text_TextBlob_subjectivity_score  text_Vader_negative_score  ...  \\\n",
       "2                            0.3498                   0.083032  ...   \n",
       "\n",
       "   title_Vader_compound_score  text_no_characters  title_no_characters  \\\n",
       "2                    0.516155            0.084669             0.504673   \n",
       "\n",
       "   character_ratio  upper_case_ratio  numbers_ratio  vocab_richness_text  \\\n",
       "2              0.0          0.520393            0.0             0.422034   \n",
       "\n",
       "   vocab_richness_title  typo_ratio_text  typo_ratio_title  \n",
       "2                   1.0         0.082822          0.165216  \n",
       "\n",
       "[1 rows x 28 columns]"
      ]
     },
     "execution_count": 25,
     "metadata": {},
     "output_type": "execute_result"
    }
   ],
   "source": [
    "X_pred_true= pd.DataFrame(X.loc[2,:]).T\n",
    "X_pred_true"
   ]
  },
  {
   "cell_type": "code",
   "execution_count": 95,
   "metadata": {},
   "outputs": [
    {
     "data": {
      "text/plain": [
       "array([1], dtype=int64)"
      ]
     },
     "execution_count": 95,
     "metadata": {},
     "output_type": "execute_result"
    }
   ],
   "source": [
    "KNN_model.predict(X_pred_true)"
   ]
  },
  {
   "cell_type": "code",
   "execution_count": 96,
   "metadata": {},
   "outputs": [],
   "source": [
    "y_pred = KNN_model.predict(X_test)"
   ]
  },
  {
   "cell_type": "code",
   "execution_count": 26,
   "metadata": {},
   "outputs": [
    {
     "data": {
      "text/plain": [
       "'              precision    recall  f1-score   support\\n\\n           0       0.57      0.50      0.53        16\\n           1       0.69      0.75      0.72        24\\n\\n    accuracy                           0.65        40\\n   macro avg       0.63      0.62      0.63        40\\nweighted avg       0.64      0.65      0.65        40\\n'"
      ]
     },
     "execution_count": 26,
     "metadata": {},
     "output_type": "execute_result"
    }
   ],
   "source": [
    "metrics.classification_report(y_test,y_pred)"
   ]
  },
  {
   "cell_type": "code",
   "execution_count": null,
   "metadata": {},
   "outputs": [],
   "source": [
    "\n"
   ]
  },
  {
   "cell_type": "markdown",
   "metadata": {},
   "source": [
    "**RandomSearch for optimal k**"
   ]
  },
  {
   "cell_type": "code",
   "execution_count": null,
   "metadata": {},
   "outputs": [],
   "source": []
  }
 ],
 "metadata": {
  "kernelspec": {
   "display_name": "Python 3",
   "language": "python",
   "name": "python3"
  },
  "language_info": {
   "codemirror_mode": {
    "name": "ipython",
    "version": 3
   },
   "file_extension": ".py",
   "mimetype": "text/x-python",
   "name": "python",
   "nbconvert_exporter": "python",
   "pygments_lexer": "ipython3",
   "version": "3.7.7"
  },
  "toc": {
   "base_numbering": 1,
   "nav_menu": {},
   "number_sections": true,
   "sideBar": true,
   "skip_h1_title": false,
   "title_cell": "Table of Contents",
   "title_sidebar": "Contents",
   "toc_cell": false,
   "toc_position": {},
   "toc_section_display": true,
   "toc_window_display": false
  }
 },
 "nbformat": 4,
 "nbformat_minor": 4
}
