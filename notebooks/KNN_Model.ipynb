{
 "cells": [
  {
   "cell_type": "markdown",
   "metadata": {},
   "source": [
    "## KNN Classifier Model\n"
   ]
  },
  {
   "cell_type": "code",
   "execution_count": 6,
   "metadata": {},
   "outputs": [],
   "source": [
    "import numpy as np\n",
    "import pandas as pd\n",
    "import matplotlib as plt\n",
    "from datetime import datetime\n",
    "import os"
   ]
  },
  {
   "cell_type": "code",
   "execution_count": 36,
   "metadata": {},
   "outputs": [
    {
     "name": "stderr",
     "output_type": "stream",
     "text": [
      "c:\\users\\brigitta bartsch\\.venvs\\lewagon\\lib\\site-packages\\IPython\\core\\interactiveshell.py:3072: DtypeWarning: Columns (6) have mixed types. Specify dtype option on import or set low_memory=False.\n",
      "  interactivity=interactivity, compiler=compiler, result=result)\n"
     ]
    }
   ],
   "source": [
    "data = pd.read_csv(\"C:\\\\Users\\\\Brigitta Bartsch\\\\code\\\\PROJECT_Fake_News_Detection\\\\fake_news_buster\\\\fake_news_buster\\\\data\\\\dataframe_compiled.csv\")"
   ]
  },
  {
   "cell_type": "code",
   "execution_count": 38,
   "metadata": {},
   "outputs": [
    {
     "data": {
      "text/plain": [
       "(200, 26)"
      ]
     },
     "execution_count": 38,
     "metadata": {},
     "output_type": "execute_result"
    }
   ],
   "source": [
    "data = pd.concat([data.head(100), data.tail(100)])\n",
    "data.shape"
   ]
  },
  {
   "cell_type": "markdown",
   "metadata": {},
   "source": [
    "**Importing the model**"
   ]
  },
  {
   "cell_type": "code",
   "execution_count": 39,
   "metadata": {},
   "outputs": [],
   "source": [
    "from sklearn.neighbors import KNeighborsClassifier\n"
   ]
  },
  {
   "cell_type": "markdown",
   "metadata": {},
   "source": [
    "**Defining X and y**"
   ]
  },
  {
   "cell_type": "code",
   "execution_count": 50,
   "metadata": {},
   "outputs": [],
   "source": [
    "X = data.drop(columns=[\"date\",\"true/false\", \"true/false_description\", \"Unnamed: 0\",\"title\",\"text\",\"subject\"])\n",
    "y = data[\"true/false\"]"
   ]
  },
  {
   "cell_type": "code",
   "execution_count": 86,
   "metadata": {},
   "outputs": [
    {
     "data": {
      "text/plain": [
       "Index(['text_TextBlob_polarity_score', 'text_TextBlob_subjectivity_score',\n",
       "       'text_Vader_negative_score', 'text_Vader_neutral_score',\n",
       "       'text_Vader_positive_score', 'text_Vader_compound_score',\n",
       "       'title_TextBlob_polarity_score', 'title_TextBlob_subjectivity_score',\n",
       "       'title_Vader_negative_score', 'title_Vader_neutral_score',\n",
       "       'title_Vader_positive_score', 'title_Vader_compound_score',\n",
       "       'text_no_characters', 'title_no_characters', 'character_ratio',\n",
       "       'upper_case_ratio', 'numbers_ratio', 'vocab_richness_text',\n",
       "       'vocab_richness_title'],\n",
       "      dtype='object')"
      ]
     },
     "execution_count": 86,
     "metadata": {},
     "output_type": "execute_result"
    }
   ],
   "source": [
    "X.columns"
   ]
  },
  {
   "cell_type": "markdown",
   "metadata": {},
   "source": [
    "**Holdout**\n"
   ]
  },
  {
   "cell_type": "code",
   "execution_count": 53,
   "metadata": {},
   "outputs": [],
   "source": [
    "from sklearn.model_selection import train_test_split\n",
    "\n",
    "X_train, X_test, y_train, y_test = train_test_split(X,y, test_size=0.3,random_state=2)"
   ]
  },
  {
   "cell_type": "code",
   "execution_count": 54,
   "metadata": {},
   "outputs": [
    {
     "name": "stdout",
     "output_type": "stream",
     "text": [
      "(140, 19)\n",
      "(140,)\n",
      "(60, 19)\n",
      "(60,)\n"
     ]
    }
   ],
   "source": [
    "print(X_train.shape)\n",
    "print(y_train.shape)\n",
    "print(X_test.shape)\n",
    "print(y_test.shape)"
   ]
  },
  {
   "cell_type": "markdown",
   "metadata": {},
   "source": [
    "**Model training**"
   ]
  },
  {
   "cell_type": "code",
   "execution_count": 59,
   "metadata": {},
   "outputs": [
    {
     "data": {
      "text/plain": [
       "KNeighborsClassifier()"
      ]
     },
     "execution_count": 59,
     "metadata": {},
     "output_type": "execute_result"
    }
   ],
   "source": [
    "KNN_model = KNeighborsClassifier(n_neighbors=5)\n",
    "\n",
    "KNN_model.fit(X_train,y_train)"
   ]
  },
  {
   "cell_type": "code",
   "execution_count": 61,
   "metadata": {},
   "outputs": [
    {
     "data": {
      "text/plain": [
       "0.7166666666666667"
      ]
     },
     "execution_count": 61,
     "metadata": {},
     "output_type": "execute_result"
    }
   ],
   "source": [
    "KNN_model.score(X_test,y_test)"
   ]
  },
  {
   "cell_type": "code",
   "execution_count": 76,
   "metadata": {},
   "outputs": [
    {
     "data": {
      "text/html": [
       "<div>\n",
       "<style scoped>\n",
       "    .dataframe tbody tr th:only-of-type {\n",
       "        vertical-align: middle;\n",
       "    }\n",
       "\n",
       "    .dataframe tbody tr th {\n",
       "        vertical-align: top;\n",
       "    }\n",
       "\n",
       "    .dataframe thead th {\n",
       "        text-align: right;\n",
       "    }\n",
       "</style>\n",
       "<table border=\"1\" class=\"dataframe\">\n",
       "  <thead>\n",
       "    <tr style=\"text-align: right;\">\n",
       "      <th></th>\n",
       "      <th>text_TextBlob_polarity_score</th>\n",
       "      <th>text_TextBlob_subjectivity_score</th>\n",
       "      <th>text_Vader_negative_score</th>\n",
       "      <th>text_Vader_neutral_score</th>\n",
       "      <th>text_Vader_positive_score</th>\n",
       "      <th>text_Vader_compound_score</th>\n",
       "      <th>title_TextBlob_polarity_score</th>\n",
       "      <th>title_TextBlob_subjectivity_score</th>\n",
       "      <th>title_Vader_negative_score</th>\n",
       "      <th>title_Vader_neutral_score</th>\n",
       "      <th>title_Vader_positive_score</th>\n",
       "      <th>title_Vader_compound_score</th>\n",
       "      <th>text_no_characters</th>\n",
       "      <th>title_no_characters</th>\n",
       "      <th>character_ratio</th>\n",
       "      <th>upper_case_ratio</th>\n",
       "      <th>numbers_ratio</th>\n",
       "      <th>vocab_richness_text</th>\n",
       "      <th>vocab_richness_title</th>\n",
       "    </tr>\n",
       "  </thead>\n",
       "  <tbody>\n",
       "    <tr>\n",
       "      <th>3</th>\n",
       "      <td>-0.023118</td>\n",
       "      <td>0.394086</td>\n",
       "      <td>0.078</td>\n",
       "      <td>0.878</td>\n",
       "      <td>0.045</td>\n",
       "      <td>-0.9243</td>\n",
       "      <td>-0.5</td>\n",
       "      <td>1.0</td>\n",
       "      <td>0.133</td>\n",
       "      <td>0.867</td>\n",
       "      <td>0.0</td>\n",
       "      <td>-0.2484</td>\n",
       "      <td>2774.0</td>\n",
       "      <td>78.0</td>\n",
       "      <td>0.0</td>\n",
       "      <td>0.24359</td>\n",
       "      <td>0.0</td>\n",
       "      <td>0.50289</td>\n",
       "      <td>1.0</td>\n",
       "    </tr>\n",
       "  </tbody>\n",
       "</table>\n",
       "</div>"
      ],
      "text/plain": [
       "   text_TextBlob_polarity_score  text_TextBlob_subjectivity_score  \\\n",
       "3                     -0.023118                          0.394086   \n",
       "\n",
       "   text_Vader_negative_score  text_Vader_neutral_score  \\\n",
       "3                      0.078                     0.878   \n",
       "\n",
       "   text_Vader_positive_score  text_Vader_compound_score  \\\n",
       "3                      0.045                    -0.9243   \n",
       "\n",
       "   title_TextBlob_polarity_score  title_TextBlob_subjectivity_score  \\\n",
       "3                           -0.5                                1.0   \n",
       "\n",
       "   title_Vader_negative_score  title_Vader_neutral_score  \\\n",
       "3                       0.133                      0.867   \n",
       "\n",
       "   title_Vader_positive_score  title_Vader_compound_score  text_no_characters  \\\n",
       "3                         0.0                     -0.2484              2774.0   \n",
       "\n",
       "   title_no_characters  character_ratio  upper_case_ratio  numbers_ratio  \\\n",
       "3                 78.0              0.0           0.24359            0.0   \n",
       "\n",
       "   vocab_richness_text  vocab_richness_title  \n",
       "3              0.50289                   1.0  "
      ]
     },
     "execution_count": 76,
     "metadata": {},
     "output_type": "execute_result"
    }
   ],
   "source": [
    "X_pred_fake = pd.DataFrame(X.loc[3,:]).T\n",
    "X_pred_fake"
   ]
  },
  {
   "cell_type": "code",
   "execution_count": 78,
   "metadata": {},
   "outputs": [
    {
     "data": {
      "text/plain": [
       "array([1], dtype=int64)"
      ]
     },
     "execution_count": 78,
     "metadata": {},
     "output_type": "execute_result"
    }
   ],
   "source": [
    "KNN_model.predict(X_pred_fake)"
   ]
  },
  {
   "cell_type": "code",
   "execution_count": 82,
   "metadata": {},
   "outputs": [
    {
     "data": {
      "text/html": [
       "<div>\n",
       "<style scoped>\n",
       "    .dataframe tbody tr th:only-of-type {\n",
       "        vertical-align: middle;\n",
       "    }\n",
       "\n",
       "    .dataframe tbody tr th {\n",
       "        vertical-align: top;\n",
       "    }\n",
       "\n",
       "    .dataframe thead th {\n",
       "        text-align: right;\n",
       "    }\n",
       "</style>\n",
       "<table border=\"1\" class=\"dataframe\">\n",
       "  <thead>\n",
       "    <tr style=\"text-align: right;\">\n",
       "      <th></th>\n",
       "      <th>text_TextBlob_polarity_score</th>\n",
       "      <th>text_TextBlob_subjectivity_score</th>\n",
       "      <th>text_Vader_negative_score</th>\n",
       "      <th>text_Vader_neutral_score</th>\n",
       "      <th>text_Vader_positive_score</th>\n",
       "      <th>text_Vader_compound_score</th>\n",
       "      <th>title_TextBlob_polarity_score</th>\n",
       "      <th>title_TextBlob_subjectivity_score</th>\n",
       "      <th>title_Vader_negative_score</th>\n",
       "      <th>title_Vader_neutral_score</th>\n",
       "      <th>title_Vader_positive_score</th>\n",
       "      <th>title_Vader_compound_score</th>\n",
       "      <th>text_no_characters</th>\n",
       "      <th>title_no_characters</th>\n",
       "      <th>character_ratio</th>\n",
       "      <th>upper_case_ratio</th>\n",
       "      <th>numbers_ratio</th>\n",
       "      <th>vocab_richness_text</th>\n",
       "      <th>vocab_richness_title</th>\n",
       "    </tr>\n",
       "  </thead>\n",
       "  <tbody>\n",
       "    <tr>\n",
       "      <th>44870</th>\n",
       "      <td>0.005589</td>\n",
       "      <td>0.412846</td>\n",
       "      <td>0.096</td>\n",
       "      <td>0.838</td>\n",
       "      <td>0.065</td>\n",
       "      <td>-0.9802</td>\n",
       "      <td>0.0</td>\n",
       "      <td>0.0</td>\n",
       "      <td>0.366</td>\n",
       "      <td>0.634</td>\n",
       "      <td>0.0</td>\n",
       "      <td>-0.6369</td>\n",
       "      <td>5024.0</td>\n",
       "      <td>75.0</td>\n",
       "      <td>0.0</td>\n",
       "      <td>0.04</td>\n",
       "      <td>0.0</td>\n",
       "      <td>0.516165</td>\n",
       "      <td>1.0</td>\n",
       "    </tr>\n",
       "  </tbody>\n",
       "</table>\n",
       "</div>"
      ],
      "text/plain": [
       "       text_TextBlob_polarity_score  text_TextBlob_subjectivity_score  \\\n",
       "44870                      0.005589                          0.412846   \n",
       "\n",
       "       text_Vader_negative_score  text_Vader_neutral_score  \\\n",
       "44870                      0.096                     0.838   \n",
       "\n",
       "       text_Vader_positive_score  text_Vader_compound_score  \\\n",
       "44870                      0.065                    -0.9802   \n",
       "\n",
       "       title_TextBlob_polarity_score  title_TextBlob_subjectivity_score  \\\n",
       "44870                            0.0                                0.0   \n",
       "\n",
       "       title_Vader_negative_score  title_Vader_neutral_score  \\\n",
       "44870                       0.366                      0.634   \n",
       "\n",
       "       title_Vader_positive_score  title_Vader_compound_score  \\\n",
       "44870                         0.0                     -0.6369   \n",
       "\n",
       "       text_no_characters  title_no_characters  character_ratio  \\\n",
       "44870              5024.0                 75.0              0.0   \n",
       "\n",
       "       upper_case_ratio  numbers_ratio  vocab_richness_text  \\\n",
       "44870              0.04            0.0             0.516165   \n",
       "\n",
       "       vocab_richness_title  \n",
       "44870                   1.0  "
      ]
     },
     "execution_count": 82,
     "metadata": {},
     "output_type": "execute_result"
    }
   ],
   "source": [
    "X_pred_true= pd.DataFrame(X.loc[44870,:]).T\n",
    "X_pred_true"
   ]
  },
  {
   "cell_type": "code",
   "execution_count": 84,
   "metadata": {},
   "outputs": [
    {
     "data": {
      "text/plain": [
       "array([0], dtype=int64)"
      ]
     },
     "execution_count": 84,
     "metadata": {},
     "output_type": "execute_result"
    }
   ],
   "source": [
    "KNN_model.predict(X_pred_true)"
   ]
  },
  {
   "cell_type": "markdown",
   "metadata": {},
   "source": [
    "**RandomSearch for optimal k**"
   ]
  },
  {
   "cell_type": "code",
   "execution_count": null,
   "metadata": {},
   "outputs": [],
   "source": []
  }
 ],
 "metadata": {
  "kernelspec": {
   "display_name": "Python 3",
   "language": "python",
   "name": "python3"
  },
  "language_info": {
   "codemirror_mode": {
    "name": "ipython",
    "version": 3
   },
   "file_extension": ".py",
   "mimetype": "text/x-python",
   "name": "python",
   "nbconvert_exporter": "python",
   "pygments_lexer": "ipython3",
   "version": "3.7.7"
  },
  "toc": {
   "base_numbering": 1,
   "nav_menu": {},
   "number_sections": true,
   "sideBar": true,
   "skip_h1_title": false,
   "title_cell": "Table of Contents",
   "title_sidebar": "Contents",
   "toc_cell": false,
   "toc_position": {},
   "toc_section_display": true,
   "toc_window_display": false
  }
 },
 "nbformat": 4,
 "nbformat_minor": 4
}
