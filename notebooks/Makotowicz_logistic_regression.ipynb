{
 "cells": [
  {
   "cell_type": "code",
   "execution_count": 1,
   "metadata": {},
   "outputs": [
    {
     "name": "stderr",
     "output_type": "stream",
     "text": [
      "c:\\users\\makot\\.venvs\\lewagon\\lib\\site-packages\\IPython\\core\\interactiveshell.py:3146: DtypeWarning: Columns (6) have mixed types.Specify dtype option on import or set low_memory=False.\n",
      "  interactivity=interactivity, compiler=compiler, result=result)\n"
     ]
    },
    {
     "data": {
      "text/html": [
       "<div>\n",
       "<style scoped>\n",
       "    .dataframe tbody tr th:only-of-type {\n",
       "        vertical-align: middle;\n",
       "    }\n",
       "\n",
       "    .dataframe tbody tr th {\n",
       "        vertical-align: top;\n",
       "    }\n",
       "\n",
       "    .dataframe thead th {\n",
       "        text-align: right;\n",
       "    }\n",
       "</style>\n",
       "<table border=\"1\" class=\"dataframe\">\n",
       "  <thead>\n",
       "    <tr style=\"text-align: right;\">\n",
       "      <th></th>\n",
       "      <th>Unnamed: 0</th>\n",
       "      <th>title</th>\n",
       "      <th>text</th>\n",
       "      <th>subject</th>\n",
       "      <th>date</th>\n",
       "      <th>true/false</th>\n",
       "      <th>true/false_description</th>\n",
       "      <th>text_TextBlob_polarity_score</th>\n",
       "      <th>text_TextBlob_subjectivity_score</th>\n",
       "      <th>text_Vader_negative_score</th>\n",
       "      <th>...</th>\n",
       "      <th>title_Vader_neutral_score</th>\n",
       "      <th>title_Vader_positive_score</th>\n",
       "      <th>title_Vader_compound_score</th>\n",
       "      <th>text_no_characters</th>\n",
       "      <th>title_no_characters</th>\n",
       "      <th>character_ratio</th>\n",
       "      <th>upper_case_ratio</th>\n",
       "      <th>numbers_ratio</th>\n",
       "      <th>vocab_richness_text</th>\n",
       "      <th>vocab_richness_title</th>\n",
       "    </tr>\n",
       "  </thead>\n",
       "  <tbody>\n",
       "    <tr>\n",
       "      <th>0</th>\n",
       "      <td>0</td>\n",
       "      <td>Donald Trump Sends Out Embarrassing New Year’...</td>\n",
       "      <td>Donald Trump just couldn t wish all Americans ...</td>\n",
       "      <td>News</td>\n",
       "      <td>2017-12-31</td>\n",
       "      <td>1</td>\n",
       "      <td>fake</td>\n",
       "      <td>0.082132</td>\n",
       "      <td>0.599895</td>\n",
       "      <td>0.143</td>\n",
       "      <td>...</td>\n",
       "      <td>0.629</td>\n",
       "      <td>0.000</td>\n",
       "      <td>-0.7096</td>\n",
       "      <td>2893</td>\n",
       "      <td>79</td>\n",
       "      <td>0.0</td>\n",
       "      <td>0.139241</td>\n",
       "      <td>0.0</td>\n",
       "      <td>0.435726</td>\n",
       "      <td>1.0</td>\n",
       "    </tr>\n",
       "    <tr>\n",
       "      <th>1</th>\n",
       "      <td>1</td>\n",
       "      <td>Drunk Bragging Trump Staffer Started Russian ...</td>\n",
       "      <td>House Intelligence Committee Chairman Devin Nu...</td>\n",
       "      <td>News</td>\n",
       "      <td>2017-12-31</td>\n",
       "      <td>1</td>\n",
       "      <td>fake</td>\n",
       "      <td>-0.005004</td>\n",
       "      <td>0.334098</td>\n",
       "      <td>0.089</td>\n",
       "      <td>...</td>\n",
       "      <td>0.745</td>\n",
       "      <td>0.000</td>\n",
       "      <td>-0.3400</td>\n",
       "      <td>1898</td>\n",
       "      <td>69</td>\n",
       "      <td>0.0</td>\n",
       "      <td>0.115942</td>\n",
       "      <td>0.0</td>\n",
       "      <td>0.595166</td>\n",
       "      <td>1.0</td>\n",
       "    </tr>\n",
       "    <tr>\n",
       "      <th>2</th>\n",
       "      <td>2</td>\n",
       "      <td>Sheriff David Clarke Becomes An Internet Joke...</td>\n",
       "      <td>On Friday, it was revealed that former Milwauk...</td>\n",
       "      <td>News</td>\n",
       "      <td>2017-12-30</td>\n",
       "      <td>1</td>\n",
       "      <td>fake</td>\n",
       "      <td>-0.012345</td>\n",
       "      <td>0.541969</td>\n",
       "      <td>0.150</td>\n",
       "      <td>...</td>\n",
       "      <td>0.699</td>\n",
       "      <td>0.118</td>\n",
       "      <td>-0.2960</td>\n",
       "      <td>3597</td>\n",
       "      <td>90</td>\n",
       "      <td>0.0</td>\n",
       "      <td>0.166667</td>\n",
       "      <td>0.0</td>\n",
       "      <td>0.480406</td>\n",
       "      <td>1.0</td>\n",
       "    </tr>\n",
       "    <tr>\n",
       "      <th>3</th>\n",
       "      <td>3</td>\n",
       "      <td>Trump Is So Obsessed He Even Has Obama’s Name...</td>\n",
       "      <td>On Christmas day, Donald Trump announced that ...</td>\n",
       "      <td>News</td>\n",
       "      <td>2017-12-29</td>\n",
       "      <td>1</td>\n",
       "      <td>fake</td>\n",
       "      <td>-0.023118</td>\n",
       "      <td>0.394086</td>\n",
       "      <td>0.078</td>\n",
       "      <td>...</td>\n",
       "      <td>0.867</td>\n",
       "      <td>0.000</td>\n",
       "      <td>-0.2484</td>\n",
       "      <td>2774</td>\n",
       "      <td>78</td>\n",
       "      <td>0.0</td>\n",
       "      <td>0.243590</td>\n",
       "      <td>0.0</td>\n",
       "      <td>0.502890</td>\n",
       "      <td>1.0</td>\n",
       "    </tr>\n",
       "    <tr>\n",
       "      <th>4</th>\n",
       "      <td>4</td>\n",
       "      <td>Pope Francis Just Called Out Donald Trump Dur...</td>\n",
       "      <td>Pope Francis used his annual Christmas Day mes...</td>\n",
       "      <td>News</td>\n",
       "      <td>2017-12-25</td>\n",
       "      <td>1</td>\n",
       "      <td>fake</td>\n",
       "      <td>-0.011722</td>\n",
       "      <td>0.495222</td>\n",
       "      <td>0.074</td>\n",
       "      <td>...</td>\n",
       "      <td>1.000</td>\n",
       "      <td>0.000</td>\n",
       "      <td>0.0000</td>\n",
       "      <td>2346</td>\n",
       "      <td>70</td>\n",
       "      <td>0.0</td>\n",
       "      <td>0.157143</td>\n",
       "      <td>0.0</td>\n",
       "      <td>0.504367</td>\n",
       "      <td>1.0</td>\n",
       "    </tr>\n",
       "  </tbody>\n",
       "</table>\n",
       "<p>5 rows × 26 columns</p>\n",
       "</div>"
      ],
      "text/plain": [
       "   Unnamed: 0                                              title  \\\n",
       "0           0   Donald Trump Sends Out Embarrassing New Year’...   \n",
       "1           1   Drunk Bragging Trump Staffer Started Russian ...   \n",
       "2           2   Sheriff David Clarke Becomes An Internet Joke...   \n",
       "3           3   Trump Is So Obsessed He Even Has Obama’s Name...   \n",
       "4           4   Pope Francis Just Called Out Donald Trump Dur...   \n",
       "\n",
       "                                                text subject        date  \\\n",
       "0  Donald Trump just couldn t wish all Americans ...    News  2017-12-31   \n",
       "1  House Intelligence Committee Chairman Devin Nu...    News  2017-12-31   \n",
       "2  On Friday, it was revealed that former Milwauk...    News  2017-12-30   \n",
       "3  On Christmas day, Donald Trump announced that ...    News  2017-12-29   \n",
       "4  Pope Francis used his annual Christmas Day mes...    News  2017-12-25   \n",
       "\n",
       "   true/false true/false_description  text_TextBlob_polarity_score  \\\n",
       "0           1                   fake                      0.082132   \n",
       "1           1                   fake                     -0.005004   \n",
       "2           1                   fake                     -0.012345   \n",
       "3           1                   fake                     -0.023118   \n",
       "4           1                   fake                     -0.011722   \n",
       "\n",
       "   text_TextBlob_subjectivity_score  text_Vader_negative_score  ...  \\\n",
       "0                          0.599895                      0.143  ...   \n",
       "1                          0.334098                      0.089  ...   \n",
       "2                          0.541969                      0.150  ...   \n",
       "3                          0.394086                      0.078  ...   \n",
       "4                          0.495222                      0.074  ...   \n",
       "\n",
       "   title_Vader_neutral_score  title_Vader_positive_score  \\\n",
       "0                      0.629                       0.000   \n",
       "1                      0.745                       0.000   \n",
       "2                      0.699                       0.118   \n",
       "3                      0.867                       0.000   \n",
       "4                      1.000                       0.000   \n",
       "\n",
       "   title_Vader_compound_score  text_no_characters  title_no_characters  \\\n",
       "0                     -0.7096                2893                   79   \n",
       "1                     -0.3400                1898                   69   \n",
       "2                     -0.2960                3597                   90   \n",
       "3                     -0.2484                2774                   78   \n",
       "4                      0.0000                2346                   70   \n",
       "\n",
       "   character_ratio  upper_case_ratio  numbers_ratio  vocab_richness_text  \\\n",
       "0              0.0          0.139241            0.0             0.435726   \n",
       "1              0.0          0.115942            0.0             0.595166   \n",
       "2              0.0          0.166667            0.0             0.480406   \n",
       "3              0.0          0.243590            0.0             0.502890   \n",
       "4              0.0          0.157143            0.0             0.504367   \n",
       "\n",
       "   vocab_richness_title  \n",
       "0                   1.0  \n",
       "1                   1.0  \n",
       "2                   1.0  \n",
       "3                   1.0  \n",
       "4                   1.0  \n",
       "\n",
       "[5 rows x 26 columns]"
      ]
     },
     "execution_count": 1,
     "metadata": {},
     "output_type": "execute_result"
    }
   ],
   "source": [
    "import pandas as pd\n",
    "import numpy as np\n",
    "import sklearn\n",
    "from sklearn.linear_model import LogisticRegression\n",
    "from sklearn.model_selection import train_test_split\n",
    "\n",
    "data = pd.read_csv(\"../raw_data/dataframe_compiled.csv\")\n",
    "\n",
    "data.head()"
   ]
  },
  {
   "cell_type": "code",
   "execution_count": 11,
   "metadata": {},
   "outputs": [
    {
     "data": {
      "text/plain": [
       "LogisticRegression(max_iter=10000, random_state=13)"
      ]
     },
     "execution_count": 11,
     "metadata": {},
     "output_type": "execute_result"
    }
   ],
   "source": [
    "X = data.drop(['Unnamed: 0', 'title', 'text', 'subject', 'date', 'true/false', 'true/false_description'], axis=1)\n",
    "y = data['true/false']\n",
    "\n",
    "X_train, X_test, y_train, y_test = train_test_split(X, y, test_size=0.3, random_state=13)\n",
    "\n",
    "model = LogisticRegression(random_state=13, max_iter = 10000)\n",
    "model.fit(X_train, y_train)"
   ]
  },
  {
   "cell_type": "code",
   "execution_count": 12,
   "metadata": {},
   "outputs": [
    {
     "data": {
      "text/plain": [
       "array([1, 1, 1, ..., 0, 0, 0], dtype=int64)"
      ]
     },
     "execution_count": 12,
     "metadata": {},
     "output_type": "execute_result"
    }
   ],
   "source": [
    "y_pred = model.predict(X_test)\n",
    "y_pred"
   ]
  },
  {
   "cell_type": "code",
   "execution_count": 13,
   "metadata": {},
   "outputs": [
    {
     "data": {
      "text/plain": [
       "0.9834410039355461"
      ]
     },
     "execution_count": 13,
     "metadata": {},
     "output_type": "execute_result"
    }
   ],
   "source": [
    "from sklearn.metrics import accuracy_score\n",
    "\n",
    "accuracy_score(y_test, y_pred)"
   ]
  },
  {
   "cell_type": "code",
   "execution_count": 16,
   "metadata": {},
   "outputs": [],
   "source": [
    "from sklearn.model_selection import cross_val_score\n",
    "from sklearn import svm\n",
    "\n",
    "scores = cross_val_score(model, X_train, y_train, cv=5, )\n",
    "\n",
    "#clf = svm.SVC(kernel='linear', C=1)\n",
    "#scores = cross_val_score(clf, X_train, y_train, cv=5)"
   ]
  },
  {
   "cell_type": "code",
   "execution_count": 17,
   "metadata": {},
   "outputs": [
    {
     "name": "stdout",
     "output_type": "stream",
     "text": [
      "0.9814460789154256\n",
      "[0.9823389  0.98186158 0.97931254 0.9837683  0.97994908]\n"
     ]
    }
   ],
   "source": [
    "print(scores.mean())\n",
    "print(scores)"
   ]
  }
 ],
 "metadata": {
  "kernelspec": {
   "display_name": "Python 3",
   "language": "python",
   "name": "python3"
  },
  "language_info": {
   "codemirror_mode": {
    "name": "ipython",
    "version": 3
   },
   "file_extension": ".py",
   "mimetype": "text/x-python",
   "name": "python",
   "nbconvert_exporter": "python",
   "pygments_lexer": "ipython3",
   "version": "3.7.8"
  }
 },
 "nbformat": 4,
 "nbformat_minor": 4
}
