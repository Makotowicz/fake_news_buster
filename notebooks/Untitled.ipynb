{
 "cells": [
  {
   "cell_type": "code",
   "execution_count": 17,
   "metadata": {},
   "outputs": [
    {
     "name": "stderr",
     "output_type": "stream",
     "text": [
      "c:\\users\\makot\\.venvs\\lewagon\\lib\\site-packages\\IPython\\core\\interactiveshell.py:3146: DtypeWarning: Columns (6) have mixed types.Specify dtype option on import or set low_memory=False.\n",
      "  interactivity=interactivity, compiler=compiler, result=result)\n"
     ]
    }
   ],
   "source": [
    "import pandas as pd\n",
    "import numpy as np\n",
    "import sklearn\n",
    "from sklearn.linear_model import LogisticRegression\n",
    "from sklearn.model_selection import train_test_split\n",
    "import joblib\n",
    "\n",
    "data = pd.read_csv(\"../raw_data/dataframe_compiled.csv\")"
   ]
  },
  {
   "cell_type": "code",
   "execution_count": 18,
   "metadata": {},
   "outputs": [],
   "source": [
    "from sklearn.preprocessing import MinMaxScaler\n",
    "\n",
    "scaler = MinMaxScaler()\n",
    "\n",
    "scaler.fit(data.drop(['Unnamed: 0', 'title', 'text', 'subject', 'date', 'true/false', 'true/false_description'], axis=1))\n",
    "scaled_vals = scaler.transform(data.drop(['Unnamed: 0', 'title', 'text', 'subject', 'date', 'true/false', 'true/false_description'], axis=1))\n",
    "\n",
    "data[['text_TextBlob_polarity_score', \n",
    "      'text_TextBlob_subjectivity_score', \n",
    "      'text_Vader_negative_score',\n",
    "      'text_Vader_neutral_score',\n",
    "      'text_Vader_positive_score',\n",
    "      'text_Vader_compound_score',\n",
    "      'title_TextBlob_polarity_score',\n",
    "      'title_TextBlob_subjectivity_score',\n",
    "      'title_Vader_negative_score',\n",
    "      'title_Vader_neutral_score',\n",
    "      'title_Vader_positive_score',\n",
    "      'title_Vader_compound_score',\n",
    "      'text_no_characters',\n",
    "      'title_no_characters',\n",
    "      'character_ratio',\n",
    "      'upper_case_ratio',\n",
    "      'numbers_ratio',\n",
    "      'vocab_richness_text',\n",
    "      'vocab_richness_title']] = scaled_vals"
   ]
  },
  {
   "cell_type": "code",
   "execution_count": 3,
   "metadata": {},
   "outputs": [
    {
     "data": {
      "text/plain": [
       "LogisticRegression(max_iter=10000, random_state=13)"
      ]
     },
     "execution_count": 3,
     "metadata": {},
     "output_type": "execute_result"
    }
   ],
   "source": [
    "X = data.drop(['Unnamed: 0', 'title', 'text', 'subject', 'date', 'true/false', 'true/false_description'], axis=1)\n",
    "y = data['true/false']\n",
    "\n",
    "X_train, X_test, y_train, y_test = train_test_split(X, y, test_size=0.3, random_state=13)\n",
    "\n",
    "model = LogisticRegression(random_state=13, max_iter = 10000)\n",
    "model.fit(X_train, y_train)"
   ]
  },
  {
   "cell_type": "code",
   "execution_count": 4,
   "metadata": {},
   "outputs": [
    {
     "data": {
      "text/plain": [
       "['Makotowicz_log_reg.sav']"
      ]
     },
     "execution_count": 4,
     "metadata": {},
     "output_type": "execute_result"
    }
   ],
   "source": [
    "filename = 'Makotowicz_log_reg.sav'\n",
    "joblib.dump(model, filename)"
   ]
  },
  {
   "cell_type": "code",
   "execution_count": 21,
   "metadata": {},
   "outputs": [],
   "source": [
    "data = data.dropna()"
   ]
  },
  {
   "cell_type": "code",
   "execution_count": 24,
   "metadata": {},
   "outputs": [
    {
     "data": {
      "text/plain": [
       "0"
      ]
     },
     "execution_count": 24,
     "metadata": {},
     "output_type": "execute_result"
    }
   ],
   "source": [
    "data.isnull().sum().sum()"
   ]
  },
  {
   "cell_type": "code",
   "execution_count": null,
   "metadata": {},
   "outputs": [],
   "source": []
  }
 ],
 "metadata": {
  "kernelspec": {
   "display_name": "Python 3",
   "language": "python",
   "name": "python3"
  },
  "language_info": {
   "codemirror_mode": {
    "name": "ipython",
    "version": 3
   },
   "file_extension": ".py",
   "mimetype": "text/x-python",
   "name": "python",
   "nbconvert_exporter": "python",
   "pygments_lexer": "ipython3",
   "version": "3.7.8"
  }
 },
 "nbformat": 4,
 "nbformat_minor": 4
}
