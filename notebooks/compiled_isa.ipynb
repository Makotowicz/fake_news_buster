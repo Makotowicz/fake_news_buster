{
 "cells": [
  {
   "cell_type": "code",
   "execution_count": 1,
   "metadata": {},
   "outputs": [
    {
     "name": "stderr",
     "output_type": "stream",
     "text": [
      "[nltk_data] Downloading package vader_lexicon to\n",
      "[nltk_data]     /Users/isa/nltk_data...\n",
      "[nltk_data]   Package vader_lexicon is already up-to-date!\n"
     ]
    }
   ],
   "source": [
    "import pandas as pd\n",
    "from datetime import datetime\n",
    "import numpy as np\n",
    "from textblob import TextBlob\n",
    "from nltk.sentiment.vader import SentimentIntensityAnalyzer\n",
    "import nltk\n",
    "nltk.download('vader_lexicon')\n",
    "vader = SentimentIntensityAnalyzer()\n",
    "from nltk.tokenize import word_tokenize"
   ]
  },
  {
   "cell_type": "code",
   "execution_count": 2,
   "metadata": {},
   "outputs": [],
   "source": [
    "df_fake = pd.read_csv(\"../raw_data/Fake.csv\")\n",
    "df_true = pd.read_csv(\"../raw_data/True.csv\")"
   ]
  },
  {
   "cell_type": "code",
   "execution_count": 3,
   "metadata": {},
   "outputs": [],
   "source": [
    "df_fake = df_fake.head(1000)\n",
    "df_true = df_true.head(1000)"
   ]
  },
  {
   "cell_type": "markdown",
   "metadata": {
    "heading_collapsed": true
   },
   "source": [
    "## data cleaning"
   ]
  },
  {
   "cell_type": "code",
   "execution_count": 4,
   "metadata": {
    "hidden": true
   },
   "outputs": [],
   "source": [
    "def import_merge_df(df_fake,df_true):\n",
    "    '''Import DataFrames and merge them, adding true/false encodings'''\n",
    "    data_fake = df_fake\n",
    "    data_true = df_true\n",
    "    # data_fake = pd.read_csv(df_1)\n",
    "    # data_true = pd.read_csv(df_2)\n",
    "    data_fake[\"true/false\"] = 1\n",
    "    data_fake[\"true/false_description\"] = \"fake\"\n",
    "    data_true[\"true/false\"] = 0\n",
    "    data_true[\"true/false_description\"] = \"true\"\n",
    "    data_concat = pd.concat([data_fake, data_true])\n",
    "    data_concat_reset_index = data_concat.reset_index(drop=True)\n",
    "    return data_concat_reset_index"
   ]
  },
  {
   "cell_type": "code",
   "execution_count": 5,
   "metadata": {
    "hidden": true
   },
   "outputs": [],
   "source": [
    "def try_parsing_date(text):\n",
    "    for fmt in ('%d-%b-%y', '%B %d, %Y', '%b %d, %Y','%b %d, %Y ','%B %d, %Y '):\n",
    "        try:\n",
    "            return datetime.strptime(text, fmt)\n",
    "        except ValueError:\n",
    "            pass\n",
    "    return np.nan"
   ]
  },
  {
   "cell_type": "code",
   "execution_count": 6,
   "metadata": {
    "hidden": true
   },
   "outputs": [],
   "source": [
    "def Data_Cleaning(df_1_path_fake, df_2_path_true):\n",
    "    '''Delete useless rows (with https..in every column)\n",
    "        and adjust datetime object'''\n",
    "    #Call merge/import function\n",
    "    data_concat_reset_index = import_merge_df(df_1_path_fake,df_2_path_true)\n",
    "    #Filter out wrong \"https\"-values\n",
    "    list_indexes_to_drop = data_concat_reset_index.query('date.str.contains(\"https\")').index\n",
    "    data = data_concat_reset_index.drop(data_concat_reset_index.index[list_indexes_to_drop])\n",
    "    #Convert date to datetimeobjects\n",
    "    data[\"date\"] = data[\"date\"].map(try_parsing_date)\n",
    "    return data"
   ]
  },
  {
   "cell_type": "markdown",
   "metadata": {
    "heading_collapsed": true
   },
   "source": [
    "## sentiment analysis"
   ]
  },
  {
   "cell_type": "code",
   "execution_count": 7,
   "metadata": {
    "hidden": true
   },
   "outputs": [],
   "source": [
    "def get_polarity(x):\n",
    "    x = TextBlob(x)\n",
    "    return x.sentiment[0]"
   ]
  },
  {
   "cell_type": "code",
   "execution_count": 8,
   "metadata": {
    "hidden": true
   },
   "outputs": [],
   "source": [
    "def get_subjectivity(x):\n",
    "    x = TextBlob(x)\n",
    "    return x.sentiment[1]"
   ]
  },
  {
   "cell_type": "code",
   "execution_count": 9,
   "metadata": {
    "hidden": true
   },
   "outputs": [],
   "source": [
    "def feature_polarity_subjectivity(df, column):\n",
    "    new_column_name_polarity = f'{column}_TextBlob_polarity_score'\n",
    "    df[new_column_name_polarity] = df[column].apply(get_polarity)\n",
    "    new_column_name_subjectivity = f'{column}_TextBlob_subjectivity_score'\n",
    "    df[new_column_name_subjectivity] = df[column].apply(get_subjectivity)\n",
    "    return df "
   ]
  },
  {
   "cell_type": "markdown",
   "metadata": {
    "heading_collapsed": true,
    "hidden": true
   },
   "source": [
    "### darth vader score"
   ]
  },
  {
   "cell_type": "code",
   "execution_count": 10,
   "metadata": {
    "hidden": true
   },
   "outputs": [],
   "source": [
    "def feature_vader_polarity_scores(df, column):\n",
    "    new_column_name = f'{column}_Vader_negative_score'\n",
    "    df[new_column_name] = df[column].apply(lambda x: vader.polarity_scores(x)[\"neg\"])\n",
    "    new_column_name = f'{column}_Vader_neutral_score'\n",
    "    df[new_column_name] = df[column].apply(lambda x: vader.polarity_scores(x)[\"neu\"])\n",
    "    new_column_name = f'{column}_Vader_positive_score'\n",
    "    df[new_column_name] = df[column].apply(lambda x: vader.polarity_scores(x)[\"pos\"])\n",
    "    new_column_name = f'{column}_Vader_compound_score'\n",
    "    df[new_column_name] = df[column].apply(lambda x: vader.polarity_scores(x)[\"compound\"])\n",
    "    return df"
   ]
  },
  {
   "cell_type": "markdown",
   "metadata": {
    "heading_collapsed": true
   },
   "source": [
    "## length of articles"
   ]
  },
  {
   "cell_type": "code",
   "execution_count": 11,
   "metadata": {
    "hidden": true
   },
   "outputs": [],
   "source": [
    "def no_chracters(text):\n",
    "    for i in text:\n",
    "          fake_charac = len(text)\n",
    "    return fake_charac"
   ]
  },
  {
   "cell_type": "code",
   "execution_count": 12,
   "metadata": {
    "hidden": true
   },
   "outputs": [],
   "source": [
    "def no_characters_df(df, column):\n",
    "    new_column_name = f'{column}_no_characters'\n",
    "    df[new_column_name] = df[column].apply(no_chracters)\n",
    "    return df"
   ]
  },
  {
   "cell_type": "markdown",
   "metadata": {
    "heading_collapsed": true
   },
   "source": [
    "## punctuation ratio, Upper case letters ratio, numbers ratio"
   ]
  },
  {
   "cell_type": "code",
   "execution_count": 13,
   "metadata": {
    "hidden": true
   },
   "outputs": [],
   "source": [
    "def character_ratiorizer(text):\n",
    "    quotes = ['\\\"', '\\\"']\n",
    "    quote_no = 0\n",
    "    for symbol in text:\n",
    "        if symbol in quotes:\n",
    "            quote_no += 1\n",
    "    return quote_no/len(text)"
   ]
  },
  {
   "cell_type": "code",
   "execution_count": 14,
   "metadata": {
    "hidden": true
   },
   "outputs": [],
   "source": [
    "def is_upperizer(text):\n",
    "    upper_no = 0\n",
    "    for word in text:\n",
    "        if word.isupper():\n",
    "            upper_no += 1\n",
    "    return upper_no/len(text)"
   ]
  },
  {
   "cell_type": "code",
   "execution_count": 15,
   "metadata": {
    "hidden": true
   },
   "outputs": [],
   "source": [
    "def is_digiter(text):\n",
    "    digit_no = 0\n",
    "    for word in text:\n",
    "        if word.isdigit():\n",
    "            digit_no += 1\n",
    "    return digit_no/len(text)"
   ]
  },
  {
   "cell_type": "markdown",
   "metadata": {
    "heading_collapsed": true
   },
   "source": [
    "## richness"
   ]
  },
  {
   "cell_type": "code",
   "execution_count": 16,
   "metadata": {
    "hidden": true
   },
   "outputs": [],
   "source": [
    "def vocab_richnesser(text):\n",
    "    tokens = word_tokenize(text)\n",
    "    total_length = len(tokens)\n",
    "    unique_words = set(tokens)\n",
    "    unique_word_length = len(unique_words)\n",
    "    try:\n",
    "        return unique_word_length/total_length\n",
    "    except ZeroDivisionError:\n",
    "        return 0"
   ]
  },
  {
   "cell_type": "markdown",
   "metadata": {
    "heading_collapsed": true
   },
   "source": [
    "## typos"
   ]
  },
  {
   "cell_type": "code",
   "execution_count": 17,
   "metadata": {
    "hidden": true
   },
   "outputs": [],
   "source": [
    "pass"
   ]
  },
  {
   "cell_type": "markdown",
   "metadata": {},
   "source": [
    "## final call of functions "
   ]
  },
  {
   "cell_type": "code",
   "execution_count": 18,
   "metadata": {},
   "outputs": [],
   "source": [
    "'''data cleaning'''\n",
    "df = Data_Cleaning(df_fake, df_true)"
   ]
  },
  {
   "cell_type": "code",
   "execution_count": 19,
   "metadata": {},
   "outputs": [],
   "source": [
    "'''sentiment analysis'''\n",
    "df = feature_polarity_subjectivity(df, 'text')\n",
    "df = feature_vader_polarity_scores(df, 'text')"
   ]
  },
  {
   "cell_type": "code",
   "execution_count": 20,
   "metadata": {},
   "outputs": [],
   "source": [
    "'''lenght of articles'''\n",
    "df = no_characters_df(df, 'text')"
   ]
  },
  {
   "cell_type": "code",
   "execution_count": 21,
   "metadata": {},
   "outputs": [],
   "source": [
    "'''punctuation ratio, Upper case letter ratio, numbers ratio'''\n",
    "df['character_ratio'] = df['title'].apply(character_ratiorizer)\n",
    "df['upper_case_ratio'] = df['title'].apply(is_upperizer)\n",
    "df['numbers_ratio'] = df['title'].apply(is_digiter)"
   ]
  },
  {
   "cell_type": "code",
   "execution_count": 22,
   "metadata": {},
   "outputs": [],
   "source": [
    "'''richness of vocab'''\n",
    "df['vocab_richness'] = df['text'].apply(vocab_richnesser)"
   ]
  },
  {
   "cell_type": "code",
   "execution_count": 23,
   "metadata": {},
   "outputs": [
    {
     "data": {
      "text/html": [
       "<div>\n",
       "<style scoped>\n",
       "    .dataframe tbody tr th:only-of-type {\n",
       "        vertical-align: middle;\n",
       "    }\n",
       "\n",
       "    .dataframe tbody tr th {\n",
       "        vertical-align: top;\n",
       "    }\n",
       "\n",
       "    .dataframe thead th {\n",
       "        text-align: right;\n",
       "    }\n",
       "</style>\n",
       "<table border=\"1\" class=\"dataframe\">\n",
       "  <thead>\n",
       "    <tr style=\"text-align: right;\">\n",
       "      <th></th>\n",
       "      <th>title</th>\n",
       "      <th>text</th>\n",
       "      <th>subject</th>\n",
       "      <th>date</th>\n",
       "      <th>true/false</th>\n",
       "      <th>true/false_description</th>\n",
       "      <th>text_TextBlob_polarity_score</th>\n",
       "      <th>text_TextBlob_subjectivity_score</th>\n",
       "      <th>text_Vader_negative_score</th>\n",
       "      <th>text_Vader_neutral_score</th>\n",
       "      <th>text_Vader_positive_score</th>\n",
       "      <th>text_Vader_compound_score</th>\n",
       "      <th>text_no_characters</th>\n",
       "      <th>character_ratio</th>\n",
       "      <th>upper_case_ratio</th>\n",
       "      <th>numbers_ratio</th>\n",
       "      <th>vocab_richness</th>\n",
       "    </tr>\n",
       "  </thead>\n",
       "  <tbody>\n",
       "    <tr>\n",
       "      <th>0</th>\n",
       "      <td>Donald Trump Sends Out Embarrassing New Year’...</td>\n",
       "      <td>Donald Trump just couldn t wish all Americans ...</td>\n",
       "      <td>News</td>\n",
       "      <td>2017-12-31</td>\n",
       "      <td>1</td>\n",
       "      <td>fake</td>\n",
       "      <td>0.082132</td>\n",
       "      <td>0.599895</td>\n",
       "      <td>0.143</td>\n",
       "      <td>0.705</td>\n",
       "      <td>0.153</td>\n",
       "      <td>-0.8681</td>\n",
       "      <td>2893</td>\n",
       "      <td>0.0</td>\n",
       "      <td>0.139241</td>\n",
       "      <td>0.000000</td>\n",
       "      <td>0.435726</td>\n",
       "    </tr>\n",
       "    <tr>\n",
       "      <th>1</th>\n",
       "      <td>Drunk Bragging Trump Staffer Started Russian ...</td>\n",
       "      <td>House Intelligence Committee Chairman Devin Nu...</td>\n",
       "      <td>News</td>\n",
       "      <td>2017-12-31</td>\n",
       "      <td>1</td>\n",
       "      <td>fake</td>\n",
       "      <td>-0.005004</td>\n",
       "      <td>0.334098</td>\n",
       "      <td>0.089</td>\n",
       "      <td>0.834</td>\n",
       "      <td>0.077</td>\n",
       "      <td>-0.7141</td>\n",
       "      <td>1898</td>\n",
       "      <td>0.0</td>\n",
       "      <td>0.115942</td>\n",
       "      <td>0.000000</td>\n",
       "      <td>0.595166</td>\n",
       "    </tr>\n",
       "    <tr>\n",
       "      <th>2</th>\n",
       "      <td>Sheriff David Clarke Becomes An Internet Joke...</td>\n",
       "      <td>On Friday, it was revealed that former Milwauk...</td>\n",
       "      <td>News</td>\n",
       "      <td>2017-12-30</td>\n",
       "      <td>1</td>\n",
       "      <td>fake</td>\n",
       "      <td>-0.012345</td>\n",
       "      <td>0.541969</td>\n",
       "      <td>0.150</td>\n",
       "      <td>0.792</td>\n",
       "      <td>0.057</td>\n",
       "      <td>-0.9958</td>\n",
       "      <td>3597</td>\n",
       "      <td>0.0</td>\n",
       "      <td>0.166667</td>\n",
       "      <td>0.000000</td>\n",
       "      <td>0.480406</td>\n",
       "    </tr>\n",
       "    <tr>\n",
       "      <th>3</th>\n",
       "      <td>Trump Is So Obsessed He Even Has Obama’s Name...</td>\n",
       "      <td>On Christmas day, Donald Trump announced that ...</td>\n",
       "      <td>News</td>\n",
       "      <td>2017-12-29</td>\n",
       "      <td>1</td>\n",
       "      <td>fake</td>\n",
       "      <td>-0.023118</td>\n",
       "      <td>0.394086</td>\n",
       "      <td>0.078</td>\n",
       "      <td>0.878</td>\n",
       "      <td>0.045</td>\n",
       "      <td>-0.9243</td>\n",
       "      <td>2774</td>\n",
       "      <td>0.0</td>\n",
       "      <td>0.243590</td>\n",
       "      <td>0.000000</td>\n",
       "      <td>0.502890</td>\n",
       "    </tr>\n",
       "    <tr>\n",
       "      <th>4</th>\n",
       "      <td>Pope Francis Just Called Out Donald Trump Dur...</td>\n",
       "      <td>Pope Francis used his annual Christmas Day mes...</td>\n",
       "      <td>News</td>\n",
       "      <td>2017-12-25</td>\n",
       "      <td>1</td>\n",
       "      <td>fake</td>\n",
       "      <td>-0.011722</td>\n",
       "      <td>0.495222</td>\n",
       "      <td>0.074</td>\n",
       "      <td>0.848</td>\n",
       "      <td>0.078</td>\n",
       "      <td>0.5396</td>\n",
       "      <td>2346</td>\n",
       "      <td>0.0</td>\n",
       "      <td>0.157143</td>\n",
       "      <td>0.000000</td>\n",
       "      <td>0.504367</td>\n",
       "    </tr>\n",
       "    <tr>\n",
       "      <th>...</th>\n",
       "      <td>...</td>\n",
       "      <td>...</td>\n",
       "      <td>...</td>\n",
       "      <td>...</td>\n",
       "      <td>...</td>\n",
       "      <td>...</td>\n",
       "      <td>...</td>\n",
       "      <td>...</td>\n",
       "      <td>...</td>\n",
       "      <td>...</td>\n",
       "      <td>...</td>\n",
       "      <td>...</td>\n",
       "      <td>...</td>\n",
       "      <td>...</td>\n",
       "      <td>...</td>\n",
       "      <td>...</td>\n",
       "      <td>...</td>\n",
       "    </tr>\n",
       "    <tr>\n",
       "      <th>1995</th>\n",
       "      <td>House panels seek documents on Puerto Rico uti...</td>\n",
       "      <td>WASHINGTON (Reuters) - A U.S. congressional co...</td>\n",
       "      <td>politicsNews</td>\n",
       "      <td>2017-10-26</td>\n",
       "      <td>0</td>\n",
       "      <td>true</td>\n",
       "      <td>0.022302</td>\n",
       "      <td>0.434048</td>\n",
       "      <td>0.054</td>\n",
       "      <td>0.886</td>\n",
       "      <td>0.059</td>\n",
       "      <td>0.0726</td>\n",
       "      <td>3082</td>\n",
       "      <td>0.0</td>\n",
       "      <td>0.054545</td>\n",
       "      <td>0.000000</td>\n",
       "      <td>0.497186</td>\n",
       "    </tr>\n",
       "    <tr>\n",
       "      <th>1996</th>\n",
       "      <td>Trump releases some JFK files, blocks others u...</td>\n",
       "      <td>WASHINGTON (Reuters) - U.S. President Donald T...</td>\n",
       "      <td>politicsNews</td>\n",
       "      <td>2017-10-26</td>\n",
       "      <td>0</td>\n",
       "      <td>true</td>\n",
       "      <td>0.045942</td>\n",
       "      <td>0.469434</td>\n",
       "      <td>0.142</td>\n",
       "      <td>0.802</td>\n",
       "      <td>0.056</td>\n",
       "      <td>-0.9979</td>\n",
       "      <td>4763</td>\n",
       "      <td>0.0</td>\n",
       "      <td>0.067797</td>\n",
       "      <td>0.000000</td>\n",
       "      <td>0.497096</td>\n",
       "    </tr>\n",
       "    <tr>\n",
       "      <th>1997</th>\n",
       "      <td>Tillerson tells Myanmar army chief U.S. concer...</td>\n",
       "      <td>WASHINGTON (Reuters) - U.S. Secretary of State...</td>\n",
       "      <td>politicsNews</td>\n",
       "      <td>2017-10-27</td>\n",
       "      <td>0</td>\n",
       "      <td>true</td>\n",
       "      <td>0.181250</td>\n",
       "      <td>0.275000</td>\n",
       "      <td>0.082</td>\n",
       "      <td>0.862</td>\n",
       "      <td>0.056</td>\n",
       "      <td>-0.8074</td>\n",
       "      <td>1275</td>\n",
       "      <td>0.0</td>\n",
       "      <td>0.053333</td>\n",
       "      <td>0.000000</td>\n",
       "      <td>0.596330</td>\n",
       "    </tr>\n",
       "    <tr>\n",
       "      <th>1998</th>\n",
       "      <td>Exclusive: While advising Trump in 2016, ex-CI...</td>\n",
       "      <td>WASHINGTON (Reuters) - Former CIA director Jam...</td>\n",
       "      <td>politicsNews</td>\n",
       "      <td>2017-10-26</td>\n",
       "      <td>0</td>\n",
       "      <td>true</td>\n",
       "      <td>0.087934</td>\n",
       "      <td>0.377486</td>\n",
       "      <td>0.039</td>\n",
       "      <td>0.907</td>\n",
       "      <td>0.054</td>\n",
       "      <td>0.9349</td>\n",
       "      <td>6526</td>\n",
       "      <td>0.0</td>\n",
       "      <td>0.073684</td>\n",
       "      <td>0.042105</td>\n",
       "      <td>0.355296</td>\n",
       "    </tr>\n",
       "    <tr>\n",
       "      <th>1999</th>\n",
       "      <td>Mattis visits Seoul for defense talks as tensi...</td>\n",
       "      <td>SEOUL (Reuters) - U.S. Defense Secretary Jim M...</td>\n",
       "      <td>politicsNews</td>\n",
       "      <td>2017-10-27</td>\n",
       "      <td>0</td>\n",
       "      <td>true</td>\n",
       "      <td>-0.001425</td>\n",
       "      <td>0.333262</td>\n",
       "      <td>0.113</td>\n",
       "      <td>0.793</td>\n",
       "      <td>0.094</td>\n",
       "      <td>-0.9507</td>\n",
       "      <td>3188</td>\n",
       "      <td>0.0</td>\n",
       "      <td>0.036364</td>\n",
       "      <td>0.000000</td>\n",
       "      <td>0.484298</td>\n",
       "    </tr>\n",
       "  </tbody>\n",
       "</table>\n",
       "<p>2000 rows × 17 columns</p>\n",
       "</div>"
      ],
      "text/plain": [
       "                                                  title  \\\n",
       "0      Donald Trump Sends Out Embarrassing New Year’...   \n",
       "1      Drunk Bragging Trump Staffer Started Russian ...   \n",
       "2      Sheriff David Clarke Becomes An Internet Joke...   \n",
       "3      Trump Is So Obsessed He Even Has Obama’s Name...   \n",
       "4      Pope Francis Just Called Out Donald Trump Dur...   \n",
       "...                                                 ...   \n",
       "1995  House panels seek documents on Puerto Rico uti...   \n",
       "1996  Trump releases some JFK files, blocks others u...   \n",
       "1997  Tillerson tells Myanmar army chief U.S. concer...   \n",
       "1998  Exclusive: While advising Trump in 2016, ex-CI...   \n",
       "1999  Mattis visits Seoul for defense talks as tensi...   \n",
       "\n",
       "                                                   text       subject  \\\n",
       "0     Donald Trump just couldn t wish all Americans ...          News   \n",
       "1     House Intelligence Committee Chairman Devin Nu...          News   \n",
       "2     On Friday, it was revealed that former Milwauk...          News   \n",
       "3     On Christmas day, Donald Trump announced that ...          News   \n",
       "4     Pope Francis used his annual Christmas Day mes...          News   \n",
       "...                                                 ...           ...   \n",
       "1995  WASHINGTON (Reuters) - A U.S. congressional co...  politicsNews   \n",
       "1996  WASHINGTON (Reuters) - U.S. President Donald T...  politicsNews   \n",
       "1997  WASHINGTON (Reuters) - U.S. Secretary of State...  politicsNews   \n",
       "1998  WASHINGTON (Reuters) - Former CIA director Jam...  politicsNews   \n",
       "1999  SEOUL (Reuters) - U.S. Defense Secretary Jim M...  politicsNews   \n",
       "\n",
       "           date  true/false true/false_description  \\\n",
       "0    2017-12-31           1                   fake   \n",
       "1    2017-12-31           1                   fake   \n",
       "2    2017-12-30           1                   fake   \n",
       "3    2017-12-29           1                   fake   \n",
       "4    2017-12-25           1                   fake   \n",
       "...         ...         ...                    ...   \n",
       "1995 2017-10-26           0                   true   \n",
       "1996 2017-10-26           0                   true   \n",
       "1997 2017-10-27           0                   true   \n",
       "1998 2017-10-26           0                   true   \n",
       "1999 2017-10-27           0                   true   \n",
       "\n",
       "      text_TextBlob_polarity_score  text_TextBlob_subjectivity_score  \\\n",
       "0                         0.082132                          0.599895   \n",
       "1                        -0.005004                          0.334098   \n",
       "2                        -0.012345                          0.541969   \n",
       "3                        -0.023118                          0.394086   \n",
       "4                        -0.011722                          0.495222   \n",
       "...                            ...                               ...   \n",
       "1995                      0.022302                          0.434048   \n",
       "1996                      0.045942                          0.469434   \n",
       "1997                      0.181250                          0.275000   \n",
       "1998                      0.087934                          0.377486   \n",
       "1999                     -0.001425                          0.333262   \n",
       "\n",
       "      text_Vader_negative_score  text_Vader_neutral_score  \\\n",
       "0                         0.143                     0.705   \n",
       "1                         0.089                     0.834   \n",
       "2                         0.150                     0.792   \n",
       "3                         0.078                     0.878   \n",
       "4                         0.074                     0.848   \n",
       "...                         ...                       ...   \n",
       "1995                      0.054                     0.886   \n",
       "1996                      0.142                     0.802   \n",
       "1997                      0.082                     0.862   \n",
       "1998                      0.039                     0.907   \n",
       "1999                      0.113                     0.793   \n",
       "\n",
       "      text_Vader_positive_score  text_Vader_compound_score  \\\n",
       "0                         0.153                    -0.8681   \n",
       "1                         0.077                    -0.7141   \n",
       "2                         0.057                    -0.9958   \n",
       "3                         0.045                    -0.9243   \n",
       "4                         0.078                     0.5396   \n",
       "...                         ...                        ...   \n",
       "1995                      0.059                     0.0726   \n",
       "1996                      0.056                    -0.9979   \n",
       "1997                      0.056                    -0.8074   \n",
       "1998                      0.054                     0.9349   \n",
       "1999                      0.094                    -0.9507   \n",
       "\n",
       "      text_no_characters  character_ratio  upper_case_ratio  numbers_ratio  \\\n",
       "0                   2893              0.0          0.139241       0.000000   \n",
       "1                   1898              0.0          0.115942       0.000000   \n",
       "2                   3597              0.0          0.166667       0.000000   \n",
       "3                   2774              0.0          0.243590       0.000000   \n",
       "4                   2346              0.0          0.157143       0.000000   \n",
       "...                  ...              ...               ...            ...   \n",
       "1995                3082              0.0          0.054545       0.000000   \n",
       "1996                4763              0.0          0.067797       0.000000   \n",
       "1997                1275              0.0          0.053333       0.000000   \n",
       "1998                6526              0.0          0.073684       0.042105   \n",
       "1999                3188              0.0          0.036364       0.000000   \n",
       "\n",
       "      vocab_richness  \n",
       "0           0.435726  \n",
       "1           0.595166  \n",
       "2           0.480406  \n",
       "3           0.502890  \n",
       "4           0.504367  \n",
       "...              ...  \n",
       "1995        0.497186  \n",
       "1996        0.497096  \n",
       "1997        0.596330  \n",
       "1998        0.355296  \n",
       "1999        0.484298  \n",
       "\n",
       "[2000 rows x 17 columns]"
      ]
     },
     "execution_count": 23,
     "metadata": {},
     "output_type": "execute_result"
    }
   ],
   "source": [
    "df"
   ]
  },
  {
   "cell_type": "code",
   "execution_count": null,
   "metadata": {},
   "outputs": [],
   "source": []
  }
 ],
 "metadata": {
  "kernelspec": {
   "display_name": "Python 3",
   "language": "python",
   "name": "python3"
  },
  "language_info": {
   "codemirror_mode": {
    "name": "ipython",
    "version": 3
   },
   "file_extension": ".py",
   "mimetype": "text/x-python",
   "name": "python",
   "nbconvert_exporter": "python",
   "pygments_lexer": "ipython3",
   "version": "3.7.7"
  },
  "toc": {
   "base_numbering": 1,
   "nav_menu": {},
   "number_sections": false,
   "sideBar": true,
   "skip_h1_title": false,
   "title_cell": "Table of Contents",
   "title_sidebar": "Contents",
   "toc_cell": false,
   "toc_position": {},
   "toc_section_display": true,
   "toc_window_display": true
  }
 },
 "nbformat": 4,
 "nbformat_minor": 4
}
